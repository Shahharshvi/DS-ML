{
  "nbformat": 4,
  "nbformat_minor": 0,
  "metadata": {
    "colab": {
      "provenance": []
    },
    "kernelspec": {
      "name": "python3",
      "display_name": "Python 3"
    },
    "language_info": {
      "name": "python"
    }
  },
  "cells": [
    {
      "cell_type": "code",
      "source": [
        "!pip install yfinance"
      ],
      "metadata": {
        "colab": {
          "base_uri": "https://localhost:8080/"
        },
        "id": "mP65z2HxdRLt",
        "outputId": "48725617-550d-451c-c9b2-f4bfd77342f6"
      },
      "execution_count": 1,
      "outputs": [
        {
          "output_type": "stream",
          "name": "stdout",
          "text": [
            "Requirement already satisfied: yfinance in /usr/local/lib/python3.10/dist-packages (0.2.28)\n",
            "Requirement already satisfied: pandas>=1.3.0 in /usr/local/lib/python3.10/dist-packages (from yfinance) (1.5.3)\n",
            "Requirement already satisfied: numpy>=1.16.5 in /usr/local/lib/python3.10/dist-packages (from yfinance) (1.23.5)\n",
            "Requirement already satisfied: requests>=2.31 in /usr/local/lib/python3.10/dist-packages (from yfinance) (2.31.0)\n",
            "Requirement already satisfied: multitasking>=0.0.7 in /usr/local/lib/python3.10/dist-packages (from yfinance) (0.0.11)\n",
            "Requirement already satisfied: lxml>=4.9.1 in /usr/local/lib/python3.10/dist-packages (from yfinance) (4.9.3)\n",
            "Requirement already satisfied: appdirs>=1.4.4 in /usr/local/lib/python3.10/dist-packages (from yfinance) (1.4.4)\n",
            "Requirement already satisfied: pytz>=2022.5 in /usr/local/lib/python3.10/dist-packages (from yfinance) (2023.3)\n",
            "Requirement already satisfied: frozendict>=2.3.4 in /usr/local/lib/python3.10/dist-packages (from yfinance) (2.3.8)\n",
            "Requirement already satisfied: beautifulsoup4>=4.11.1 in /usr/local/lib/python3.10/dist-packages (from yfinance) (4.11.2)\n",
            "Requirement already satisfied: html5lib>=1.1 in /usr/local/lib/python3.10/dist-packages (from yfinance) (1.1)\n",
            "Requirement already satisfied: soupsieve>1.2 in /usr/local/lib/python3.10/dist-packages (from beautifulsoup4>=4.11.1->yfinance) (2.4.1)\n",
            "Requirement already satisfied: six>=1.9 in /usr/local/lib/python3.10/dist-packages (from html5lib>=1.1->yfinance) (1.16.0)\n",
            "Requirement already satisfied: webencodings in /usr/local/lib/python3.10/dist-packages (from html5lib>=1.1->yfinance) (0.5.1)\n",
            "Requirement already satisfied: python-dateutil>=2.8.1 in /usr/local/lib/python3.10/dist-packages (from pandas>=1.3.0->yfinance) (2.8.2)\n",
            "Requirement already satisfied: charset-normalizer<4,>=2 in /usr/local/lib/python3.10/dist-packages (from requests>=2.31->yfinance) (3.2.0)\n",
            "Requirement already satisfied: idna<4,>=2.5 in /usr/local/lib/python3.10/dist-packages (from requests>=2.31->yfinance) (3.4)\n",
            "Requirement already satisfied: urllib3<3,>=1.21.1 in /usr/local/lib/python3.10/dist-packages (from requests>=2.31->yfinance) (2.0.4)\n",
            "Requirement already satisfied: certifi>=2017.4.17 in /usr/local/lib/python3.10/dist-packages (from requests>=2.31->yfinance) (2023.7.22)\n"
          ]
        }
      ]
    },
    {
      "cell_type": "code",
      "source": [
        "import numpy as np\n",
        "import pandas as pd\n",
        "\n",
        "import yfinance as yf\n",
        "\n",
        "import seaborn as sns\n",
        "import matplotlib.pyplot as plt\n",
        "%matplotlib inline"
      ],
      "metadata": {
        "id": "t4nQ-NG7bX-U"
      },
      "execution_count": 2,
      "outputs": []
    },
    {
      "cell_type": "code",
      "source": [
        "stocks = input(\"Enter the code of the stock:- \")\n",
        "data = yf.download(stocks, \"2008-01-01\", \"2022-01-18\", auto_adjust=True)\n",
        "data.head()\n"
      ],
      "metadata": {
        "colab": {
          "base_uri": "https://localhost:8080/",
          "height": 272
        },
        "id": "ckQxNeIdbheB",
        "outputId": "fc93e3ac-e2e9-4646-eb06-249fbaba6230"
      },
      "execution_count": 4,
      "outputs": [
        {
          "output_type": "stream",
          "name": "stdout",
          "text": [
            "Enter the code of the stock:- NG=F\n",
            "[*********************100%%**********************]  1 of 1 completed\n"
          ]
        },
        {
          "output_type": "execute_result",
          "data": {
            "text/plain": [
              "             Open   High    Low  Close  Volume\n",
              "Date                                          \n",
              "2008-01-02  7.572  7.876  7.564  7.850   68553\n",
              "2008-01-03  7.873  7.980  7.610  7.674   72742\n",
              "2008-01-04  7.652  7.859  7.500  7.841   61496\n",
              "2008-01-07  7.803  7.940  7.701  7.879   56675\n",
              "2008-01-08  7.909  7.997  7.880  7.967   53775"
            ],
            "text/html": [
              "\n",
              "  <div id=\"df-366892f2-2760-43f2-979e-3a0db7ce6a05\" class=\"colab-df-container\">\n",
              "    <div>\n",
              "<style scoped>\n",
              "    .dataframe tbody tr th:only-of-type {\n",
              "        vertical-align: middle;\n",
              "    }\n",
              "\n",
              "    .dataframe tbody tr th {\n",
              "        vertical-align: top;\n",
              "    }\n",
              "\n",
              "    .dataframe thead th {\n",
              "        text-align: right;\n",
              "    }\n",
              "</style>\n",
              "<table border=\"1\" class=\"dataframe\">\n",
              "  <thead>\n",
              "    <tr style=\"text-align: right;\">\n",
              "      <th></th>\n",
              "      <th>Open</th>\n",
              "      <th>High</th>\n",
              "      <th>Low</th>\n",
              "      <th>Close</th>\n",
              "      <th>Volume</th>\n",
              "    </tr>\n",
              "    <tr>\n",
              "      <th>Date</th>\n",
              "      <th></th>\n",
              "      <th></th>\n",
              "      <th></th>\n",
              "      <th></th>\n",
              "      <th></th>\n",
              "    </tr>\n",
              "  </thead>\n",
              "  <tbody>\n",
              "    <tr>\n",
              "      <th>2008-01-02</th>\n",
              "      <td>7.572</td>\n",
              "      <td>7.876</td>\n",
              "      <td>7.564</td>\n",
              "      <td>7.850</td>\n",
              "      <td>68553</td>\n",
              "    </tr>\n",
              "    <tr>\n",
              "      <th>2008-01-03</th>\n",
              "      <td>7.873</td>\n",
              "      <td>7.980</td>\n",
              "      <td>7.610</td>\n",
              "      <td>7.674</td>\n",
              "      <td>72742</td>\n",
              "    </tr>\n",
              "    <tr>\n",
              "      <th>2008-01-04</th>\n",
              "      <td>7.652</td>\n",
              "      <td>7.859</td>\n",
              "      <td>7.500</td>\n",
              "      <td>7.841</td>\n",
              "      <td>61496</td>\n",
              "    </tr>\n",
              "    <tr>\n",
              "      <th>2008-01-07</th>\n",
              "      <td>7.803</td>\n",
              "      <td>7.940</td>\n",
              "      <td>7.701</td>\n",
              "      <td>7.879</td>\n",
              "      <td>56675</td>\n",
              "    </tr>\n",
              "    <tr>\n",
              "      <th>2008-01-08</th>\n",
              "      <td>7.909</td>\n",
              "      <td>7.997</td>\n",
              "      <td>7.880</td>\n",
              "      <td>7.967</td>\n",
              "      <td>53775</td>\n",
              "    </tr>\n",
              "  </tbody>\n",
              "</table>\n",
              "</div>\n",
              "    <div class=\"colab-df-buttons\">\n",
              "\n",
              "  <div class=\"colab-df-container\">\n",
              "    <button class=\"colab-df-convert\" onclick=\"convertToInteractive('df-366892f2-2760-43f2-979e-3a0db7ce6a05')\"\n",
              "            title=\"Convert this dataframe to an interactive table.\"\n",
              "            style=\"display:none;\">\n",
              "\n",
              "  <svg xmlns=\"http://www.w3.org/2000/svg\" height=\"24px\" viewBox=\"0 -960 960 960\">\n",
              "    <path d=\"M120-120v-720h720v720H120Zm60-500h600v-160H180v160Zm220 220h160v-160H400v160Zm0 220h160v-160H400v160ZM180-400h160v-160H180v160Zm440 0h160v-160H620v160ZM180-180h160v-160H180v160Zm440 0h160v-160H620v160Z\"/>\n",
              "  </svg>\n",
              "    </button>\n",
              "\n",
              "  <style>\n",
              "    .colab-df-container {\n",
              "      display:flex;\n",
              "      gap: 12px;\n",
              "    }\n",
              "\n",
              "    .colab-df-convert {\n",
              "      background-color: #E8F0FE;\n",
              "      border: none;\n",
              "      border-radius: 50%;\n",
              "      cursor: pointer;\n",
              "      display: none;\n",
              "      fill: #1967D2;\n",
              "      height: 32px;\n",
              "      padding: 0 0 0 0;\n",
              "      width: 32px;\n",
              "    }\n",
              "\n",
              "    .colab-df-convert:hover {\n",
              "      background-color: #E2EBFA;\n",
              "      box-shadow: 0px 1px 2px rgba(60, 64, 67, 0.3), 0px 1px 3px 1px rgba(60, 64, 67, 0.15);\n",
              "      fill: #174EA6;\n",
              "    }\n",
              "\n",
              "    .colab-df-buttons div {\n",
              "      margin-bottom: 4px;\n",
              "    }\n",
              "\n",
              "    [theme=dark] .colab-df-convert {\n",
              "      background-color: #3B4455;\n",
              "      fill: #D2E3FC;\n",
              "    }\n",
              "\n",
              "    [theme=dark] .colab-df-convert:hover {\n",
              "      background-color: #434B5C;\n",
              "      box-shadow: 0px 1px 3px 1px rgba(0, 0, 0, 0.15);\n",
              "      filter: drop-shadow(0px 1px 2px rgba(0, 0, 0, 0.3));\n",
              "      fill: #FFFFFF;\n",
              "    }\n",
              "  </style>\n",
              "\n",
              "    <script>\n",
              "      const buttonEl =\n",
              "        document.querySelector('#df-366892f2-2760-43f2-979e-3a0db7ce6a05 button.colab-df-convert');\n",
              "      buttonEl.style.display =\n",
              "        google.colab.kernel.accessAllowed ? 'block' : 'none';\n",
              "\n",
              "      async function convertToInteractive(key) {\n",
              "        const element = document.querySelector('#df-366892f2-2760-43f2-979e-3a0db7ce6a05');\n",
              "        const dataTable =\n",
              "          await google.colab.kernel.invokeFunction('convertToInteractive',\n",
              "                                                    [key], {});\n",
              "        if (!dataTable) return;\n",
              "\n",
              "        const docLinkHtml = 'Like what you see? Visit the ' +\n",
              "          '<a target=\"_blank\" href=https://colab.research.google.com/notebooks/data_table.ipynb>data table notebook</a>'\n",
              "          + ' to learn more about interactive tables.';\n",
              "        element.innerHTML = '';\n",
              "        dataTable['output_type'] = 'display_data';\n",
              "        await google.colab.output.renderOutput(dataTable, element);\n",
              "        const docLink = document.createElement('div');\n",
              "        docLink.innerHTML = docLinkHtml;\n",
              "        element.appendChild(docLink);\n",
              "      }\n",
              "    </script>\n",
              "  </div>\n",
              "\n",
              "\n",
              "<div id=\"df-770bd737-86bc-4a89-b2d8-da2e818b5cbe\">\n",
              "  <button class=\"colab-df-quickchart\" onclick=\"quickchart('df-770bd737-86bc-4a89-b2d8-da2e818b5cbe')\"\n",
              "            title=\"Suggest charts.\"\n",
              "            style=\"display:none;\">\n",
              "\n",
              "<svg xmlns=\"http://www.w3.org/2000/svg\" height=\"24px\"viewBox=\"0 0 24 24\"\n",
              "     width=\"24px\">\n",
              "    <g>\n",
              "        <path d=\"M19 3H5c-1.1 0-2 .9-2 2v14c0 1.1.9 2 2 2h14c1.1 0 2-.9 2-2V5c0-1.1-.9-2-2-2zM9 17H7v-7h2v7zm4 0h-2V7h2v10zm4 0h-2v-4h2v4z\"/>\n",
              "    </g>\n",
              "</svg>\n",
              "  </button>\n",
              "\n",
              "<style>\n",
              "  .colab-df-quickchart {\n",
              "    background-color: #E8F0FE;\n",
              "    border: none;\n",
              "    border-radius: 50%;\n",
              "    cursor: pointer;\n",
              "    display: none;\n",
              "    fill: #1967D2;\n",
              "    height: 32px;\n",
              "    padding: 0 0 0 0;\n",
              "    width: 32px;\n",
              "  }\n",
              "\n",
              "  .colab-df-quickchart:hover {\n",
              "    background-color: #E2EBFA;\n",
              "    box-shadow: 0px 1px 2px rgba(60, 64, 67, 0.3), 0px 1px 3px 1px rgba(60, 64, 67, 0.15);\n",
              "    fill: #174EA6;\n",
              "  }\n",
              "\n",
              "  [theme=dark] .colab-df-quickchart {\n",
              "    background-color: #3B4455;\n",
              "    fill: #D2E3FC;\n",
              "  }\n",
              "\n",
              "  [theme=dark] .colab-df-quickchart:hover {\n",
              "    background-color: #434B5C;\n",
              "    box-shadow: 0px 1px 3px 1px rgba(0, 0, 0, 0.15);\n",
              "    filter: drop-shadow(0px 1px 2px rgba(0, 0, 0, 0.3));\n",
              "    fill: #FFFFFF;\n",
              "  }\n",
              "</style>\n",
              "\n",
              "  <script>\n",
              "    async function quickchart(key) {\n",
              "      const charts = await google.colab.kernel.invokeFunction(\n",
              "          'suggestCharts', [key], {});\n",
              "    }\n",
              "    (() => {\n",
              "      let quickchartButtonEl =\n",
              "        document.querySelector('#df-770bd737-86bc-4a89-b2d8-da2e818b5cbe button');\n",
              "      quickchartButtonEl.style.display =\n",
              "        google.colab.kernel.accessAllowed ? 'block' : 'none';\n",
              "    })();\n",
              "  </script>\n",
              "</div>\n",
              "    </div>\n",
              "  </div>\n"
            ]
          },
          "metadata": {},
          "execution_count": 4
        }
      ]
    },
    {
      "cell_type": "code",
      "source": [
        "data.shape"
      ],
      "metadata": {
        "colab": {
          "base_uri": "https://localhost:8080/"
        },
        "id": "cuG8jZOvb86_",
        "outputId": "9ab51612-09c8-4844-a3ca-c50b88d1e255"
      },
      "execution_count": 5,
      "outputs": [
        {
          "output_type": "execute_result",
          "data": {
            "text/plain": [
              "(3534, 5)"
            ]
          },
          "metadata": {},
          "execution_count": 5
        }
      ]
    },
    {
      "cell_type": "code",
      "source": [
        "data.info()"
      ],
      "metadata": {
        "colab": {
          "base_uri": "https://localhost:8080/"
        },
        "id": "DC9b_dJkcVxn",
        "outputId": "bf239053-d3db-4472-fda2-61d5b798a60f"
      },
      "execution_count": 6,
      "outputs": [
        {
          "output_type": "stream",
          "name": "stdout",
          "text": [
            "<class 'pandas.core.frame.DataFrame'>\n",
            "DatetimeIndex: 3534 entries, 2008-01-02 to 2022-01-14\n",
            "Data columns (total 5 columns):\n",
            " #   Column  Non-Null Count  Dtype  \n",
            "---  ------  --------------  -----  \n",
            " 0   Open    3534 non-null   float64\n",
            " 1   High    3534 non-null   float64\n",
            " 2   Low     3534 non-null   float64\n",
            " 3   Close   3534 non-null   float64\n",
            " 4   Volume  3534 non-null   int64  \n",
            "dtypes: float64(4), int64(1)\n",
            "memory usage: 165.7 KB\n"
          ]
        }
      ]
    },
    {
      "cell_type": "code",
      "source": [
        "data.columns"
      ],
      "metadata": {
        "colab": {
          "base_uri": "https://localhost:8080/"
        },
        "id": "wFJ6T93Hcyly",
        "outputId": "daef7907-0141-4c3c-aa36-69f0f80106f1"
      },
      "execution_count": 9,
      "outputs": [
        {
          "output_type": "execute_result",
          "data": {
            "text/plain": [
              "Index(['Open', 'High', 'Low', 'Close', 'Volume'], dtype='object')"
            ]
          },
          "metadata": {},
          "execution_count": 9
        }
      ]
    },
    {
      "cell_type": "code",
      "source": [
        "data.describe()"
      ],
      "metadata": {
        "colab": {
          "base_uri": "https://localhost:8080/",
          "height": 300
        },
        "id": "kGU_QBb7cZgK",
        "outputId": "13824ae5-2bcb-48cb-8b2d-fb89a917dda7"
      },
      "execution_count": 8,
      "outputs": [
        {
          "output_type": "execute_result",
          "data": {
            "text/plain": [
              "              Open         High          Low        Close         Volume\n",
              "count  3534.000000  3534.000000  3534.000000  3534.000000    3534.000000\n",
              "mean      3.718531     3.794443     3.638683     3.712444  131470.948217\n",
              "std       1.784869     1.821065     1.743645     1.779840   54384.151763\n",
              "min       1.441000     1.567000     1.432000     1.482000       0.000000\n",
              "25%       2.704250     2.751000     2.653250     2.702000   92246.500000\n",
              "50%       3.273500     3.337000     3.213000     3.266500  126669.500000\n",
              "75%       4.166000     4.254000     4.080250     4.160750  161713.250000\n",
              "max      13.580000    13.694000    13.306000    13.577000  459196.000000"
            ],
            "text/html": [
              "\n",
              "  <div id=\"df-376c9d4a-cb74-446b-83cd-83813c562fe8\" class=\"colab-df-container\">\n",
              "    <div>\n",
              "<style scoped>\n",
              "    .dataframe tbody tr th:only-of-type {\n",
              "        vertical-align: middle;\n",
              "    }\n",
              "\n",
              "    .dataframe tbody tr th {\n",
              "        vertical-align: top;\n",
              "    }\n",
              "\n",
              "    .dataframe thead th {\n",
              "        text-align: right;\n",
              "    }\n",
              "</style>\n",
              "<table border=\"1\" class=\"dataframe\">\n",
              "  <thead>\n",
              "    <tr style=\"text-align: right;\">\n",
              "      <th></th>\n",
              "      <th>Open</th>\n",
              "      <th>High</th>\n",
              "      <th>Low</th>\n",
              "      <th>Close</th>\n",
              "      <th>Volume</th>\n",
              "    </tr>\n",
              "  </thead>\n",
              "  <tbody>\n",
              "    <tr>\n",
              "      <th>count</th>\n",
              "      <td>3534.000000</td>\n",
              "      <td>3534.000000</td>\n",
              "      <td>3534.000000</td>\n",
              "      <td>3534.000000</td>\n",
              "      <td>3534.000000</td>\n",
              "    </tr>\n",
              "    <tr>\n",
              "      <th>mean</th>\n",
              "      <td>3.718531</td>\n",
              "      <td>3.794443</td>\n",
              "      <td>3.638683</td>\n",
              "      <td>3.712444</td>\n",
              "      <td>131470.948217</td>\n",
              "    </tr>\n",
              "    <tr>\n",
              "      <th>std</th>\n",
              "      <td>1.784869</td>\n",
              "      <td>1.821065</td>\n",
              "      <td>1.743645</td>\n",
              "      <td>1.779840</td>\n",
              "      <td>54384.151763</td>\n",
              "    </tr>\n",
              "    <tr>\n",
              "      <th>min</th>\n",
              "      <td>1.441000</td>\n",
              "      <td>1.567000</td>\n",
              "      <td>1.432000</td>\n",
              "      <td>1.482000</td>\n",
              "      <td>0.000000</td>\n",
              "    </tr>\n",
              "    <tr>\n",
              "      <th>25%</th>\n",
              "      <td>2.704250</td>\n",
              "      <td>2.751000</td>\n",
              "      <td>2.653250</td>\n",
              "      <td>2.702000</td>\n",
              "      <td>92246.500000</td>\n",
              "    </tr>\n",
              "    <tr>\n",
              "      <th>50%</th>\n",
              "      <td>3.273500</td>\n",
              "      <td>3.337000</td>\n",
              "      <td>3.213000</td>\n",
              "      <td>3.266500</td>\n",
              "      <td>126669.500000</td>\n",
              "    </tr>\n",
              "    <tr>\n",
              "      <th>75%</th>\n",
              "      <td>4.166000</td>\n",
              "      <td>4.254000</td>\n",
              "      <td>4.080250</td>\n",
              "      <td>4.160750</td>\n",
              "      <td>161713.250000</td>\n",
              "    </tr>\n",
              "    <tr>\n",
              "      <th>max</th>\n",
              "      <td>13.580000</td>\n",
              "      <td>13.694000</td>\n",
              "      <td>13.306000</td>\n",
              "      <td>13.577000</td>\n",
              "      <td>459196.000000</td>\n",
              "    </tr>\n",
              "  </tbody>\n",
              "</table>\n",
              "</div>\n",
              "    <div class=\"colab-df-buttons\">\n",
              "\n",
              "  <div class=\"colab-df-container\">\n",
              "    <button class=\"colab-df-convert\" onclick=\"convertToInteractive('df-376c9d4a-cb74-446b-83cd-83813c562fe8')\"\n",
              "            title=\"Convert this dataframe to an interactive table.\"\n",
              "            style=\"display:none;\">\n",
              "\n",
              "  <svg xmlns=\"http://www.w3.org/2000/svg\" height=\"24px\" viewBox=\"0 -960 960 960\">\n",
              "    <path d=\"M120-120v-720h720v720H120Zm60-500h600v-160H180v160Zm220 220h160v-160H400v160Zm0 220h160v-160H400v160ZM180-400h160v-160H180v160Zm440 0h160v-160H620v160ZM180-180h160v-160H180v160Zm440 0h160v-160H620v160Z\"/>\n",
              "  </svg>\n",
              "    </button>\n",
              "\n",
              "  <style>\n",
              "    .colab-df-container {\n",
              "      display:flex;\n",
              "      gap: 12px;\n",
              "    }\n",
              "\n",
              "    .colab-df-convert {\n",
              "      background-color: #E8F0FE;\n",
              "      border: none;\n",
              "      border-radius: 50%;\n",
              "      cursor: pointer;\n",
              "      display: none;\n",
              "      fill: #1967D2;\n",
              "      height: 32px;\n",
              "      padding: 0 0 0 0;\n",
              "      width: 32px;\n",
              "    }\n",
              "\n",
              "    .colab-df-convert:hover {\n",
              "      background-color: #E2EBFA;\n",
              "      box-shadow: 0px 1px 2px rgba(60, 64, 67, 0.3), 0px 1px 3px 1px rgba(60, 64, 67, 0.15);\n",
              "      fill: #174EA6;\n",
              "    }\n",
              "\n",
              "    .colab-df-buttons div {\n",
              "      margin-bottom: 4px;\n",
              "    }\n",
              "\n",
              "    [theme=dark] .colab-df-convert {\n",
              "      background-color: #3B4455;\n",
              "      fill: #D2E3FC;\n",
              "    }\n",
              "\n",
              "    [theme=dark] .colab-df-convert:hover {\n",
              "      background-color: #434B5C;\n",
              "      box-shadow: 0px 1px 3px 1px rgba(0, 0, 0, 0.15);\n",
              "      filter: drop-shadow(0px 1px 2px rgba(0, 0, 0, 0.3));\n",
              "      fill: #FFFFFF;\n",
              "    }\n",
              "  </style>\n",
              "\n",
              "    <script>\n",
              "      const buttonEl =\n",
              "        document.querySelector('#df-376c9d4a-cb74-446b-83cd-83813c562fe8 button.colab-df-convert');\n",
              "      buttonEl.style.display =\n",
              "        google.colab.kernel.accessAllowed ? 'block' : 'none';\n",
              "\n",
              "      async function convertToInteractive(key) {\n",
              "        const element = document.querySelector('#df-376c9d4a-cb74-446b-83cd-83813c562fe8');\n",
              "        const dataTable =\n",
              "          await google.colab.kernel.invokeFunction('convertToInteractive',\n",
              "                                                    [key], {});\n",
              "        if (!dataTable) return;\n",
              "\n",
              "        const docLinkHtml = 'Like what you see? Visit the ' +\n",
              "          '<a target=\"_blank\" href=https://colab.research.google.com/notebooks/data_table.ipynb>data table notebook</a>'\n",
              "          + ' to learn more about interactive tables.';\n",
              "        element.innerHTML = '';\n",
              "        dataTable['output_type'] = 'display_data';\n",
              "        await google.colab.output.renderOutput(dataTable, element);\n",
              "        const docLink = document.createElement('div');\n",
              "        docLink.innerHTML = docLinkHtml;\n",
              "        element.appendChild(docLink);\n",
              "      }\n",
              "    </script>\n",
              "  </div>\n",
              "\n",
              "\n",
              "<div id=\"df-0c01c7a6-065c-46a0-a5cb-b551b79f8021\">\n",
              "  <button class=\"colab-df-quickchart\" onclick=\"quickchart('df-0c01c7a6-065c-46a0-a5cb-b551b79f8021')\"\n",
              "            title=\"Suggest charts.\"\n",
              "            style=\"display:none;\">\n",
              "\n",
              "<svg xmlns=\"http://www.w3.org/2000/svg\" height=\"24px\"viewBox=\"0 0 24 24\"\n",
              "     width=\"24px\">\n",
              "    <g>\n",
              "        <path d=\"M19 3H5c-1.1 0-2 .9-2 2v14c0 1.1.9 2 2 2h14c1.1 0 2-.9 2-2V5c0-1.1-.9-2-2-2zM9 17H7v-7h2v7zm4 0h-2V7h2v10zm4 0h-2v-4h2v4z\"/>\n",
              "    </g>\n",
              "</svg>\n",
              "  </button>\n",
              "\n",
              "<style>\n",
              "  .colab-df-quickchart {\n",
              "    background-color: #E8F0FE;\n",
              "    border: none;\n",
              "    border-radius: 50%;\n",
              "    cursor: pointer;\n",
              "    display: none;\n",
              "    fill: #1967D2;\n",
              "    height: 32px;\n",
              "    padding: 0 0 0 0;\n",
              "    width: 32px;\n",
              "  }\n",
              "\n",
              "  .colab-df-quickchart:hover {\n",
              "    background-color: #E2EBFA;\n",
              "    box-shadow: 0px 1px 2px rgba(60, 64, 67, 0.3), 0px 1px 3px 1px rgba(60, 64, 67, 0.15);\n",
              "    fill: #174EA6;\n",
              "  }\n",
              "\n",
              "  [theme=dark] .colab-df-quickchart {\n",
              "    background-color: #3B4455;\n",
              "    fill: #D2E3FC;\n",
              "  }\n",
              "\n",
              "  [theme=dark] .colab-df-quickchart:hover {\n",
              "    background-color: #434B5C;\n",
              "    box-shadow: 0px 1px 3px 1px rgba(0, 0, 0, 0.15);\n",
              "    filter: drop-shadow(0px 1px 2px rgba(0, 0, 0, 0.3));\n",
              "    fill: #FFFFFF;\n",
              "  }\n",
              "</style>\n",
              "\n",
              "  <script>\n",
              "    async function quickchart(key) {\n",
              "      const charts = await google.colab.kernel.invokeFunction(\n",
              "          'suggestCharts', [key], {});\n",
              "    }\n",
              "    (() => {\n",
              "      let quickchartButtonEl =\n",
              "        document.querySelector('#df-0c01c7a6-065c-46a0-a5cb-b551b79f8021 button');\n",
              "      quickchartButtonEl.style.display =\n",
              "        google.colab.kernel.accessAllowed ? 'block' : 'none';\n",
              "    })();\n",
              "  </script>\n",
              "</div>\n",
              "    </div>\n",
              "  </div>\n"
            ]
          },
          "metadata": {},
          "execution_count": 8
        }
      ]
    },
    {
      "cell_type": "code",
      "source": [
        "data.Close.plot(figsize=(10,7),color='b')\n",
        "plt.ylabel(\"{} Prices\".format(stocks))\n",
        "plt.title(\"{} Price Series\".format(stocks))\n",
        "plt.show()"
      ],
      "metadata": {
        "colab": {
          "base_uri": "https://localhost:8080/",
          "height": 448
        },
        "id": "-n8swJVmcbfN",
        "outputId": "2e630c8f-95ce-49ed-8dde-0e1c29b77d09"
      },
      "execution_count": 10,
      "outputs": [
        {
          "output_type": "display_data",
          "data": {
            "text/plain": [
              "<Figure size 1000x700 with 1 Axes>"
            ],
            "image/png": "[encoded data removed]"
          },
          "metadata": {}
        }
      ]
    },
    {
      "cell_type": "code",
      "source": [
        "sns.distplot(data[\"Close\"])"
      ],
      "metadata": {
        "colab": {
          "base_uri": "https://localhost:8080/",
          "height": 657
        },
        "id": "BB6-wzg5dE3Y",
        "outputId": "1041d994-2ce5-4d2e-8ebd-e9e21fcde8f0"
      },
      "execution_count": 12,
      "outputs": [
        {
          "output_type": "stream",
          "name": "stderr",
          "text": [
            "<ipython-input-12-7576e4f36f65>:1: UserWarning: \n",
            "\n",
            "`distplot` is a deprecated function and will be removed in seaborn v0.14.0.\n",
            "\n",
            "Please adapt your code to use either `displot` (a figure-level function with\n",
            "similar flexibility) or `histplot` (an axes-level function for histograms).\n",
            "\n",
            "For a guide to updating your code to use the new functions, please see\n",
            "https://gist.github.com/mwaskom/de44147ed2974457ad6372750bbe5751\n",
            "\n",
            "  sns.distplot(data[\"Close\"])\n"
          ]
        },
        {
          "output_type": "execute_result",
          "data": {
            "text/plain": [
              "<Axes: xlabel='Close', ylabel='Density'>"
            ]
          },
          "metadata": {},
          "execution_count": 12
        },
        {
          "output_type": "display_data",
          "data": {
            "text/plain": [
              "<Figure size 640x480 with 1 Axes>"
            ],
            "image/png": "[encoded data removed]"
          },
          "metadata": {}
        }
      ]
    },
    {
      "cell_type": "code",
      "source": [
        "sns.distplot(data[\"Open\"])"
      ],
      "metadata": {
        "colab": {
          "base_uri": "https://localhost:8080/",
          "height": 657
        },
        "id": "DpAZylWfdIkw",
        "outputId": "eea28b5d-7951-4a41-a8af-4c12d6660e78"
      },
      "execution_count": 13,
      "outputs": [
        {
          "output_type": "stream",
          "name": "stderr",
          "text": [
            "<ipython-input-13-daae21fed2ea>:1: UserWarning: \n",
            "\n",
            "`distplot` is a deprecated function and will be removed in seaborn v0.14.0.\n",
            "\n",
            "Please adapt your code to use either `displot` (a figure-level function with\n",
            "similar flexibility) or `histplot` (an axes-level function for histograms).\n",
            "\n",
            "For a guide to updating your code to use the new functions, please see\n",
            "https://gist.github.com/mwaskom/de44147ed2974457ad6372750bbe5751\n",
            "\n",
            "  sns.distplot(data[\"Open\"])\n"
          ]
        },
        {
          "output_type": "execute_result",
          "data": {
            "text/plain": [
              "<Axes: xlabel='Open', ylabel='Density'>"
            ]
          },
          "metadata": {},
          "execution_count": 13
        },
        {
          "output_type": "display_data",
          "data": {
            "text/plain": [
              "<Figure size 640x480 with 1 Axes>"
            ],
            "image/png": "[encoded data removed]"
          },
          "metadata": {}
        }
      ]
    },
    {
      "cell_type": "code",
      "source": [
        "sns.distplot(data[\"High\"])"
      ],
      "metadata": {
        "colab": {
          "base_uri": "https://localhost:8080/",
          "height": 657
        },
        "id": "JOfs3T0mdUxi",
        "outputId": "1bf64ca2-08c4-4a52-f9a5-2e34b8882163"
      },
      "execution_count": 14,
      "outputs": [
        {
          "output_type": "stream",
          "name": "stderr",
          "text": [
            "<ipython-input-14-f105f0b633a7>:1: UserWarning: \n",
            "\n",
            "`distplot` is a deprecated function and will be removed in seaborn v0.14.0.\n",
            "\n",
            "Please adapt your code to use either `displot` (a figure-level function with\n",
            "similar flexibility) or `histplot` (an axes-level function for histograms).\n",
            "\n",
            "For a guide to updating your code to use the new functions, please see\n",
            "https://gist.github.com/mwaskom/de44147ed2974457ad6372750bbe5751\n",
            "\n",
            "  sns.distplot(data[\"High\"])\n"
          ]
        },
        {
          "output_type": "execute_result",
          "data": {
            "text/plain": [
              "<Axes: xlabel='High', ylabel='Density'>"
            ]
          },
          "metadata": {},
          "execution_count": 14
        },
        {
          "output_type": "display_data",
          "data": {
            "text/plain": [
              "<Figure size 640x480 with 1 Axes>"
            ],
            "image/png": "[encoded data removed]"
          },
          "metadata": {}
        }
      ]
    },
    {
      "cell_type": "code",
      "source": [
        "X=data.drop(\"Close\",axis=1)\n",
        "y=data[\"Close\"]"
      ],
      "metadata": {
        "id": "nI6pYaKadXm5"
      },
      "execution_count": 15,
      "outputs": []
    },
    {
      "cell_type": "code",
      "source": [
        "from sklearn.model_selection import train_test_split\n",
        "X_train,X_test,y_train,y_test=train_test_split(X,y,test_size=0.2,random_state=0)"
      ],
      "metadata": {
        "id": "f_YJ9k3MeMHq"
      },
      "execution_count": 16,
      "outputs": []
    },
    {
      "cell_type": "code",
      "source": [
        "print(X_train.shape,X_test.shape,y_train.shape,y_test.shape)"
      ],
      "metadata": {
        "colab": {
          "base_uri": "https://localhost:8080/"
        },
        "id": "sVv26ssWeaWd",
        "outputId": "368a29ca-6f70-4968-8ffc-a818a1c87f3d"
      },
      "execution_count": 17,
      "outputs": [
        {
          "output_type": "stream",
          "name": "stdout",
          "text": [
            "(2827, 4) (707, 4) (2827,) (707,)\n"
          ]
        }
      ]
    },
    {
      "cell_type": "code",
      "source": [
        "from sklearn.linear_model import LinearRegression\n",
        "lr=LinearRegression()\n",
        "lr.fit(X_train,y_train)"
      ],
      "metadata": {
        "colab": {
          "base_uri": "https://localhost:8080/",
          "height": 75
        },
        "id": "KKXQ45NjejR8",
        "outputId": "8621b985-8d91-4f45-8254-0f42ed37e2a8"
      },
      "execution_count": 18,
      "outputs": [
        {
          "output_type": "execute_result",
          "data": {
            "text/plain": [
              "LinearRegression()"
            ],
            "text/html": [
              "<style>#sk-container-id-1 {color: black;background-color: white;}#sk-container-id-1 pre{padding: 0;}#sk-container-id-1 div.sk-toggleable {background-color: white;}#sk-container-id-1 label.sk-toggleable__label {cursor: pointer;display: block;width: 100%;margin-bottom: 0;padding: 0.3em;box-sizing: border-box;text-align: center;}#sk-container-id-1 label.sk-toggleable__label-arrow:before {content: \"▸\";float: left;margin-right: 0.25em;color: #696969;}#sk-container-id-1 label.sk-toggleable__label-arrow:hover:before {color: black;}#sk-container-id-1 div.sk-estimator:hover label.sk-toggleable__label-arrow:before {color: black;}#sk-container-id-1 div.sk-toggleable__content {max-height: 0;max-width: 0;overflow: hidden;text-align: left;background-color: #f0f8ff;}#sk-container-id-1 div.sk-toggleable__content pre {margin: 0.2em;color: black;border-radius: 0.25em;background-color: #f0f8ff;}#sk-container-id-1 input.sk-toggleable__control:checked~div.sk-toggleable__content {max-height: 200px;max-width: 100%;overflow: auto;}#sk-container-id-1 input.sk-toggleable__control:checked~label.sk-toggleable__label-arrow:before {content: \"▾\";}#sk-container-id-1 div.sk-estimator input.sk-toggleable__control:checked~label.sk-toggleable__label {background-color: #d4ebff;}#sk-container-id-1 div.sk-label input.sk-toggleable__control:checked~label.sk-toggleable__label {background-color: #d4ebff;}#sk-container-id-1 input.sk-hidden--visually {border: 0;clip: rect(1px 1px 1px 1px);clip: rect(1px, 1px, 1px, 1px);height: 1px;margin: -1px;overflow: hidden;padding: 0;position: absolute;width: 1px;}#sk-container-id-1 div.sk-estimator {font-family: monospace;background-color: #f0f8ff;border: 1px dotted black;border-radius: 0.25em;box-sizing: border-box;margin-bottom: 0.5em;}#sk-container-id-1 div.sk-estimator:hover {background-color: #d4ebff;}#sk-container-id-1 div.sk-parallel-item::after {content: \"\";width: 100%;border-bottom: 1px solid gray;flex-grow: 1;}#sk-container-id-1 div.sk-label:hover label.sk-toggleable__label {background-color: #d4ebff;}#sk-container-id-1 div.sk-serial::before {content: \"\";position: absolute;border-left: 1px solid gray;box-sizing: border-box;top: 0;bottom: 0;left: 50%;z-index: 0;}#sk-container-id-1 div.sk-serial {display: flex;flex-direction: column;align-items: center;background-color: white;padding-right: 0.2em;padding-left: 0.2em;position: relative;}#sk-container-id-1 div.sk-item {position: relative;z-index: 1;}#sk-container-id-1 div.sk-parallel {display: flex;align-items: stretch;justify-content: center;background-color: white;position: relative;}#sk-container-id-1 div.sk-item::before, #sk-container-id-1 div.sk-parallel-item::before {content: \"\";position: absolute;border-left: 1px solid gray;box-sizing: border-box;top: 0;bottom: 0;left: 50%;z-index: -1;}#sk-container-id-1 div.sk-parallel-item {display: flex;flex-direction: column;z-index: 1;position: relative;background-color: white;}#sk-container-id-1 div.sk-parallel-item:first-child::after {align-self: flex-end;width: 50%;}#sk-container-id-1 div.sk-parallel-item:last-child::after {align-self: flex-start;width: 50%;}#sk-container-id-1 div.sk-parallel-item:only-child::after {width: 0;}#sk-container-id-1 div.sk-dashed-wrapped {border: 1px dashed gray;margin: 0 0.4em 0.5em 0.4em;box-sizing: border-box;padding-bottom: 0.4em;background-color: white;}#sk-container-id-1 div.sk-label label {font-family: monospace;font-weight: bold;display: inline-block;line-height: 1.2em;}#sk-container-id-1 div.sk-label-container {text-align: center;}#sk-container-id-1 div.sk-container {/* jupyter's `normalize.less` sets `[hidden] { display: none; }` but bootstrap.min.css set `[hidden] { display: none !important; }` so we also need the `!important` here to be able to override the default hidden behavior on the sphinx rendered scikit-learn.org. See: https://github.com/scikit-learn/scikit-learn/issues/21755 */display: inline-block !important;position: relative;}#sk-container-id-1 div.sk-text-repr-fallback {display: none;}</style><div id=\"sk-container-id-1\" class=\"sk-top-container\"><div class=\"sk-text-repr-fallback\"><pre>LinearRegression()</pre><b>In a Jupyter environment, please rerun this cell to show the HTML representation or trust the notebook. <br />On GitHub, the HTML representation is unable to render, please try loading this page with nbviewer.org.</b></div><div class=\"sk-container\" hidden><div class=\"sk-item\"><div class=\"sk-estimator sk-toggleable\"><input class=\"sk-toggleable__control sk-hidden--visually\" id=\"sk-estimator-id-1\" type=\"checkbox\" checked><label for=\"sk-estimator-id-1\" class=\"sk-toggleable__label sk-toggleable__label-arrow\">LinearRegression</label><div class=\"sk-toggleable__content\"><pre>LinearRegression()</pre></div></div></div></div></div>"
            ]
          },
          "metadata": {},
          "execution_count": 18
        }
      ]
    },
    {
      "cell_type": "code",
      "source": [
        "pred1=lr.predict(X_test)\n"
      ],
      "metadata": {
        "id": "fvbDrj0cezbF"
      },
      "execution_count": 20,
      "outputs": []
    },
    {
      "cell_type": "code",
      "source": [
        "pred1"
      ],
      "metadata": {
        "colab": {
          "base_uri": "https://localhost:8080/"
        },
        "id": "r7vpG34Ae3Pg",
        "outputId": "53b92473-c687-4e99-e253-4a99db7678e9"
      },
      "execution_count": 21,
      "outputs": [
        {
          "output_type": "execute_result",
          "data": {
            "text/plain": [
              "array([ 3.29238346,  3.02377413,  2.92614292,  2.69545134,  4.43367111,\n",
              "        4.88166174,  4.67017742,  2.65892571,  4.64025501,  2.83953219,\n",
              "        1.68509377,  2.2928481 ,  2.10788427,  3.7417527 ,  2.68051795,\n",
              "        5.61053656,  4.35043013,  3.29313104,  3.97963316,  4.16709369,\n",
              "        2.85344249,  3.94996425,  5.48156274,  1.82668014,  3.1713288 ,\n",
              "        5.42876929, 13.04752616,  3.8922446 ,  2.13741086,  4.14294339,\n",
              "        9.89904519,  3.13856334,  1.84579058,  2.71767174,  3.8471505 ,\n",
              "        3.58065901,  2.3517371 ,  3.98840282,  3.85044282,  3.99717347,\n",
              "        2.99716588,  2.68813343,  2.34368906,  3.73633344,  4.96631683,\n",
              "        2.59052989,  2.60463908,  4.39564351,  4.04390398,  3.87705715,\n",
              "        4.5356151 ,  3.35129805,  3.34968543,  2.94332596,  3.35333303,\n",
              "        4.4964752 ,  5.04676071,  4.61394327,  4.50713373,  2.39699558,\n",
              "        1.67138662,  6.88503336,  5.73201228,  3.14665957,  6.85131378,\n",
              "        2.96556377,  9.40134764,  6.71829189, 11.54766952,  2.57426508,\n",
              "        3.79499705,  5.93951456,  1.95559485,  2.65044212,  2.02946145,\n",
              "        2.8315359 ,  5.00224438,  2.57045272,  3.22216748,  3.42265142,\n",
              "        2.76252256,  4.23190009,  5.68598813,  2.77985667,  2.17415814,\n",
              "        2.00054266,  1.97053369,  2.77104558,  3.15904375,  1.71570466,\n",
              "        4.96313222,  2.67430821,  5.86710465,  3.95016956,  3.91140481,\n",
              "        2.4292674 ,  4.29785728,  4.8277541 ,  2.61825125,  3.32199445,\n",
              "        5.56380937,  1.93125383,  6.57489947,  1.63502437,  4.58045534,\n",
              "        2.15024285,  5.4337929 ,  4.75582456,  3.78597196,  4.10615612,\n",
              "        2.33187116,  4.94708665,  2.32487584,  2.74707203,  2.93244673,\n",
              "       12.77681831,  4.62351919,  2.2585379 ,  3.83881211,  3.83683751,\n",
              "        1.98460794,  4.76464909,  3.06099684,  2.5481411 ,  2.77286201,\n",
              "        4.65958215,  9.00344172,  2.6485909 ,  2.90046083,  2.86077916,\n",
              "        3.94877552,  3.88149707,  4.21161537,  2.56765283,  2.75595801,\n",
              "        3.13810507,  4.24908747,  4.04633314,  3.95769758,  5.01173824,\n",
              "        2.87448581,  2.23580567,  4.23767596,  2.88310699,  2.80393369,\n",
              "        6.89438848,  2.59879355,  2.7996055 ,  4.36202723,  1.81705456,\n",
              "        7.13765396,  4.17677636,  2.64728126,  3.2128658 ,  3.67974088,\n",
              "        7.90099182,  2.39136492,  2.69575187,  3.76557474,  3.20679552,\n",
              "        3.66550448,  1.65465133,  3.98256091,  2.99780316,  3.02282235,\n",
              "        3.54308115,  3.6401695 ,  3.23659733,  4.05316747,  2.68752246,\n",
              "        3.75861084,  2.33741819,  3.92007584,  2.91115016,  4.12632089,\n",
              "        2.40972979,  2.34364357,  2.43664312,  3.63338556,  2.13903586,\n",
              "        3.03808436,  2.06110342,  4.39534964,  3.96520776,  4.78567805,\n",
              "        4.21824116,  3.37247168,  1.99490975,  2.22475806,  3.47590069,\n",
              "        4.07033122,  7.73318339,  4.74745257,  2.5533581 ,  2.7967366 ,\n",
              "        4.17327623,  2.32237812,  2.90595139,  2.28151698,  3.92913387,\n",
              "        2.74903266,  2.30395171,  2.89742398,  3.92613719,  5.35074038,\n",
              "        2.57144571,  2.84019808,  3.29884436,  4.69414295,  3.20653077,\n",
              "        4.08516424,  2.86658595,  2.82809466,  2.86170746,  3.92658683,\n",
              "        2.53858513,  4.10600928,  3.17176678,  4.40830417,  3.15274503,\n",
              "        3.61091889, 11.73934923,  3.94799816,  3.38200364,  4.77933028,\n",
              "        4.36293918,  2.15603462,  3.62123125,  7.61407519,  4.87175656,\n",
              "        8.6932433 ,  3.80896758,  3.90552811,  5.71429882,  4.06380626,\n",
              "        4.17940086,  2.84647393,  2.80796328,  5.64962031,  2.38137719,\n",
              "        2.10828091,  2.69473818,  4.39339517,  3.88205567,  2.80828265,\n",
              "        3.58353765,  4.40185411,  3.22826972,  1.76722059,  2.26576247,\n",
              "        3.51406225,  3.2371137 ,  2.00703225,  2.5786943 , 10.16073325,\n",
              "        2.84968877,  3.95970587,  4.01984331,  4.59766794,  2.95634887,\n",
              "        3.57271296,  2.80738121,  2.46773048,  3.29327593,  3.80942982,\n",
              "        2.35148064,  2.87472945,  2.37768954,  2.45967193,  4.83229319,\n",
              "        4.26599788,  5.96268941,  2.71718588,  2.71204279,  3.56321558,\n",
              "        3.05562182,  3.78672756,  3.78216117,  3.844217  ,  3.79293761,\n",
              "        3.41294338,  2.31271596,  4.38814298,  4.24001967,  3.23129781,\n",
              "        3.15423842,  1.78009287,  8.14525565,  3.00296252,  2.71908359,\n",
              "        3.40792366,  7.96790594,  7.16057609,  3.93320482,  2.34203265,\n",
              "        2.85567424,  2.93484803,  4.61489515,  2.9038943 ,  3.47684029,\n",
              "        6.15006096,  3.02474906,  3.82101436,  2.92348497,  4.44405989,\n",
              "        4.13241052,  3.84527097,  3.32989892,  2.63414165,  4.3303069 ,\n",
              "        2.39035241,  3.60570902,  4.88246484,  3.51235775,  4.10363502,\n",
              "        2.73450701,  3.01065619,  3.96277815,  2.65016492,  3.03857761,\n",
              "        3.40255016,  4.42790567,  2.21692886,  2.33138426,  4.39377101,\n",
              "        2.15203285,  4.8595226 ,  2.88282601,  6.4505149 ,  6.74340014,\n",
              "        4.01378563,  2.76721876,  2.7632348 ,  3.5809033 ,  5.52598514,\n",
              "        2.90136634,  3.66802276,  2.15308758,  4.00516703,  2.79520661,\n",
              "        3.59772798,  3.80921469,  3.24206504,  7.80971553,  3.88843819,\n",
              "        2.82179339,  3.96003067,  4.18749493,  3.88567501,  2.35343062,\n",
              "        6.46274624,  4.16219454,  4.33348381,  4.748653  ,  4.00697442,\n",
              "        2.54224353,  2.96874692,  2.56438819,  3.05063076,  3.80896534,\n",
              "        2.85573629,  2.52243584,  2.94315307,  2.9440823 ,  4.02069175,\n",
              "        2.77375864,  4.66918861,  2.046442  ,  7.4779293 ,  2.1816818 ,\n",
              "        9.46892791,  2.63043996,  2.27341252,  4.6941697 ,  3.88976571,\n",
              "        3.8565121 ,  1.78972626,  3.81403152,  2.96003175,  2.70256482,\n",
              "        2.19311834,  1.99342297,  4.06576467,  2.39386727,  3.42144088,\n",
              "        1.82863188,  3.03202056,  2.59201811,  2.87529616,  3.02088502,\n",
              "        3.52359604,  3.30063784,  4.62038664,  2.91653317,  2.84671937,\n",
              "        3.7303453 ,  3.23757005,  1.84434762,  4.02538839,  2.54455083,\n",
              "        3.52463778,  2.0845026 ,  2.70404765,  7.79919077,  8.81078173,\n",
              "        5.46979578,  2.4789533 ,  1.75124174,  2.65253722,  2.89825654,\n",
              "        3.38723236,  2.91257677,  1.81839973,  3.01668166,  3.8364275 ,\n",
              "        1.7689559 ,  3.63991517,  4.54328127,  2.6038569 ,  3.70861597,\n",
              "        2.77446593,  4.97267921,  4.91003802,  3.45162545,  4.803971  ,\n",
              "        3.68365138,  2.82494739,  2.94602462,  2.72764331,  2.29810959,\n",
              "        4.85260265,  3.51425468,  4.49907123,  3.26220693,  2.28842309,\n",
              "       10.2556406 ,  1.59762174,  3.14871736,  1.70389165,  3.26108719,\n",
              "        7.16027489,  3.74833678,  2.7728271 ,  3.33228197,  4.8143568 ,\n",
              "        5.0884823 ,  4.27326959,  4.36710175,  3.94033598,  4.27910388,\n",
              "        1.55586594,  2.93484981,  3.81149167,  4.13616898,  8.02696257,\n",
              "        2.88150297,  3.816113  ,  7.47700258,  2.43340753,  5.10324161,\n",
              "        3.11803103,  3.28974761,  1.87342944,  3.03455883,  3.45598964,\n",
              "        2.54903382,  2.68921345,  3.03140482,  2.69576164,  2.99066257,\n",
              "        3.00944447,  3.76017247,  4.4488629 ,  1.75483499,  6.05603342,\n",
              "        3.06846882,  1.53456806,  2.67496588,  4.1040792 ,  5.89609942,\n",
              "        3.66591547,  2.53486414,  2.98032749,  2.69403496,  3.32398031,\n",
              "        8.07906916,  6.74973296,  3.51344606, 13.38772269,  3.20882218,\n",
              "        4.39373763,  2.76389465,  2.73545127,  2.55698196,  2.55239297,\n",
              "        4.35924146,  4.57655208,  2.37718747,  2.66595623,  2.98409522,\n",
              "        4.733077  ,  2.73107272,  4.59180848,  2.44765052,  7.35930779,\n",
              "        4.09074148, 11.9918961 ,  2.54249863,  2.71276181,  3.83699385,\n",
              "        2.72019291,  2.48338679,  3.6865664 ,  2.11609101,  4.12319955,\n",
              "        4.60445966,  2.23151869,  3.60700447,  2.57518841,  2.29571492,\n",
              "        2.77741601,  2.71313437,  2.99667397,  1.79599697,  2.42715406,\n",
              "        2.08949239,  3.74290866,  2.87220245,  2.80175934,  2.11787491,\n",
              "        1.82174735,  3.58863559,  2.51715729,  2.62561233,  3.48924774,\n",
              "        2.85209578,  2.68375907,  9.52921083,  2.31910806,  4.01839224,\n",
              "        3.87962295,  3.95690812,  2.2913993 ,  3.6713398 ,  2.60103403,\n",
              "        3.82533573,  6.6734301 ,  2.89325112,  1.84066223,  3.89987022,\n",
              "        2.90968418,  3.28203755,  2.27333132,  3.65822494,  3.60241519,\n",
              "        4.2357563 ,  3.61381648,  4.35470671,  6.24203902,  3.67772333,\n",
              "        3.55476086,  4.03732164,  3.89420029,  2.16496611,  3.43883188,\n",
              "        2.97346098,  3.82517227,  4.73830779,  2.4721623 ,  2.50559016,\n",
              "       10.49655071,  2.75170207,  4.26025365,  4.37948964,  4.30417255,\n",
              "        2.93523411,  3.40190761,  3.1924336 ,  4.29854363,  2.70899853,\n",
              "        2.59549268,  2.85363948,  5.01190647,  4.01098152,  3.14991019,\n",
              "        4.38580482,  1.73244124,  3.40219063,  3.06424714,  4.50477734,\n",
              "        3.01842946,  2.19618671,  3.98460129,  3.32030669,  2.65128034,\n",
              "        3.02596163,  4.10527624,  8.03884882,  3.67899835,  2.94636798,\n",
              "        4.30805708,  4.54500387,  3.01178816,  3.56215151,  3.07385032,\n",
              "        2.29855734,  4.21111045,  2.61589867,  4.7548103 ,  3.09225534,\n",
              "        2.23238709,  3.62887088,  2.27470339,  3.9548171 ,  2.83778783,\n",
              "        4.05462324,  4.65167918,  2.92335089,  2.3555654 ,  2.49674183,\n",
              "        2.53496902,  3.94863573,  3.43456606,  3.19714165,  2.83584501,\n",
              "        2.34255826,  3.42611132,  2.96538285,  3.7861575 ,  2.65863114,\n",
              "        3.10318394,  4.06344222,  2.65092307,  3.17498951,  4.71033116,\n",
              "        7.97098977,  2.70693657,  2.63276287,  3.06376417,  4.78007117,\n",
              "        3.09573022,  3.70201076,  2.93668858,  3.73204927,  2.07111141,\n",
              "        7.06243148,  2.95749217,  2.73446521,  2.00605827,  2.884673  ,\n",
              "        4.15561609,  3.252206  ,  4.288343  ,  2.9533176 ,  3.55799451,\n",
              "        5.97793422,  4.93798899,  3.9692721 ,  4.84656244,  2.90488126,\n",
              "        4.55909417,  5.74349381,  4.18340592,  1.89159553,  2.22737511,\n",
              "        4.10665876,  3.52905024,  2.17189225,  3.43213066,  5.84563669,\n",
              "        2.88266394,  4.4922584 ,  4.1407735 ,  3.90445872,  2.76722221,\n",
              "        2.3567252 ,  2.88212703,  2.26455577,  2.07242494,  2.61484478,\n",
              "        2.12917769,  4.07497746,  2.53888396,  4.72320206,  4.62079964,\n",
              "        1.73989906,  4.01891241,  1.71288869,  7.69112137,  2.96745987,\n",
              "        9.98375125,  2.79408555,  5.3268989 ,  2.92102088,  7.80205664,\n",
              "        3.28318077,  3.7286178 ,  2.74268392,  4.12751093,  3.18040551,\n",
              "       12.67566106,  4.09127371,  4.05748528,  3.02737067,  2.68838077,\n",
              "        4.56243021,  8.33795004])"
            ]
          },
          "metadata": {},
          "execution_count": 21
        }
      ]
    },
    {
      "cell_type": "code",
      "source": [
        "from sklearn.metrics import mean_squared_error,r2_score\n",
        "\n",
        "def calculate_metrics(y_test,y_pred):\n",
        "  mse=mean_squared_error(y_test,y_pred)\n",
        "  rmse=np.sqrt(mse)\n",
        "  r2_sc=r2_score(y_test,y_pred)\n",
        "  print(\"MSE:- \", mse)\n",
        "  print(\"RMSE:- \", rmse)\n",
        "  print(\"R2_score:- \", r2_sc)"
      ],
      "metadata": {
        "id": "61OTpH9te6Vt"
      },
      "execution_count": 22,
      "outputs": []
    },
    {
      "cell_type": "code",
      "source": [
        "calculate_metrics(y_test,pred1)"
      ],
      "metadata": {
        "colab": {
          "base_uri": "https://localhost:8080/"
        },
        "id": "rEb3Hu4ff2ZL",
        "outputId": "d67b418b-3278-4999-b3a8-7869536c806d"
      },
      "execution_count": 24,
      "outputs": [
        {
          "output_type": "stream",
          "name": "stdout",
          "text": [
            "MSE:-  0.0020253920009987176\n",
            "RMSE:-  0.045004355355884366\n",
            "R2_score:-  0.9992899194332998\n"
          ]
        }
      ]
    },
    {
      "cell_type": "code",
      "source": [
        "from sklearn.linear_model import Lasso,Ridge"
      ],
      "metadata": {
        "id": "VaZ51rPLf6mh"
      },
      "execution_count": 25,
      "outputs": []
    },
    {
      "cell_type": "code",
      "source": [
        "la = Lasso().fit(X_train, y_train )\n",
        "ri = Ridge().fit(X_train, y_train )\n"
      ],
      "metadata": {
        "id": "aB8ZnlxNgRaX"
      },
      "execution_count": 26,
      "outputs": []
    },
    {
      "cell_type": "code",
      "source": [
        "la_p = la.predict(X_test)\n",
        "ri_p = ri.predict(X_test)"
      ],
      "metadata": {
        "id": "DJCut8QFgYv3"
      },
      "execution_count": 29,
      "outputs": []
    },
    {
      "cell_type": "code",
      "source": [
        "calculate_metrics(y_test, la_p)"
      ],
      "metadata": {
        "colab": {
          "base_uri": "https://localhost:8080/"
        },
        "id": "lpqoVkDrgZQF",
        "outputId": "95ab4af3-5797-4ada-8eb4-42c98a90e9c2"
      },
      "execution_count": 30,
      "outputs": [
        {
          "output_type": "stream",
          "name": "stdout",
          "text": [
            "MSE:-  0.2926610454130496\n",
            "RMSE:-  0.5409815573686867\n",
            "R2_score:-  0.8973961974395565\n"
          ]
        }
      ]
    },
    {
      "cell_type": "code",
      "source": [
        "calculate_metrics(y_test,ri_p )"
      ],
      "metadata": {
        "colab": {
          "base_uri": "https://localhost:8080/"
        },
        "id": "kl75j9HOgaow",
        "outputId": "67c41524-a015-46c0-a4e6-98908e59af3e"
      },
      "execution_count": 31,
      "outputs": [
        {
          "output_type": "stream",
          "name": "stdout",
          "text": [
            "MSE:-  0.002086189395383772\n",
            "RMSE:-  0.04567482233554688\n",
            "R2_score:-  0.9992686045232786\n"
          ]
        }
      ]
    },
    {
      "cell_type": "code",
      "source": [
        "from sklearn.svm import SVR\n",
        "from sklearn.model_selection import GridSearchCV\n",
        "svr = SVR()\n",
        "\n",
        "\n",
        "param_grid = {'C': [0.1, 1, 10, 100, 1000],\n",
        "              'gamma': [1, 0.1, 0.01, 0.001, 0.0001],\n",
        "              'kernel': ['rbf']}\n",
        "\n",
        "grid = GridSearchCV(SVR(), param_grid, refit=True, verbose=3)\n",
        "grid.fit(X_train, y_train)"
      ],
      "metadata": {
        "colab": {
          "base_uri": "https://localhost:8080/",
          "height": 1000
        },
        "id": "dSPemD1DgrIG",
        "outputId": "b2934b68-9b5f-46e0-bb52-45ded76a5eb0"
      },
      "execution_count": 32,
      "outputs": [
        {
          "output_type": "stream",
          "name": "stdout",
          "text": [
            "Fitting 5 folds for each of 25 candidates, totalling 125 fits\n",
            "[CV 1/5] END .......C=0.1, gamma=1, kernel=rbf;, score=-0.077 total time=   0.6s\n",
            "[CV 2/5] END .......C=0.1, gamma=1, kernel=rbf;, score=-0.053 total time=   0.6s\n",
            "[CV 3/5] END .......C=0.1, gamma=1, kernel=rbf;, score=-0.061 total time=   0.6s\n",
            "[CV 4/5] END .......C=0.1, gamma=1, kernel=rbf;, score=-0.068 total time=   0.6s\n",
            "[CV 5/5] END .......C=0.1, gamma=1, kernel=rbf;, score=-0.044 total time=   0.4s\n",
            "[CV 1/5] END .....C=0.1, gamma=0.1, kernel=rbf;, score=-0.077 total time=   0.3s\n",
            "[CV 2/5] END .....C=0.1, gamma=0.1, kernel=rbf;, score=-0.052 total time=   0.3s\n",
            "[CV 3/5] END .....C=0.1, gamma=0.1, kernel=rbf;, score=-0.060 total time=   0.3s\n",
            "[CV 4/5] END .....C=0.1, gamma=0.1, kernel=rbf;, score=-0.067 total time=   0.3s\n",
            "[CV 5/5] END .....C=0.1, gamma=0.1, kernel=rbf;, score=-0.044 total time=   0.3s\n",
            "[CV 1/5] END ....C=0.1, gamma=0.01, kernel=rbf;, score=-0.076 total time=   0.3s\n",
            "[CV 2/5] END ....C=0.1, gamma=0.01, kernel=rbf;, score=-0.052 total time=   0.3s\n",
            "[CV 3/5] END ....C=0.1, gamma=0.01, kernel=rbf;, score=-0.059 total time=   0.3s\n",
            "[CV 4/5] END ....C=0.1, gamma=0.01, kernel=rbf;, score=-0.064 total time=   0.3s\n",
            "[CV 5/5] END ....C=0.1, gamma=0.01, kernel=rbf;, score=-0.044 total time=   0.3s\n",
            "[CV 1/5] END ...C=0.1, gamma=0.001, kernel=rbf;, score=-0.067 total time=   0.3s\n",
            "[CV 2/5] END ...C=0.1, gamma=0.001, kernel=rbf;, score=-0.049 total time=   0.3s\n",
            "[CV 3/5] END ...C=0.1, gamma=0.001, kernel=rbf;, score=-0.055 total time=   0.3s\n",
            "[CV 4/5] END ...C=0.1, gamma=0.001, kernel=rbf;, score=-0.056 total time=   0.3s\n",
            "[CV 5/5] END ...C=0.1, gamma=0.001, kernel=rbf;, score=-0.041 total time=   0.3s\n",
            "[CV 1/5] END ..C=0.1, gamma=0.0001, kernel=rbf;, score=-0.049 total time=   0.5s\n",
            "[CV 2/5] END ..C=0.1, gamma=0.0001, kernel=rbf;, score=-0.042 total time=   0.7s\n",
            "[CV 3/5] END ..C=0.1, gamma=0.0001, kernel=rbf;, score=-0.036 total time=   0.7s\n",
            "[CV 4/5] END ..C=0.1, gamma=0.0001, kernel=rbf;, score=-0.037 total time=   0.7s\n",
            "[CV 5/5] END ..C=0.1, gamma=0.0001, kernel=rbf;, score=-0.033 total time=   0.6s\n",
            "[CV 1/5] END .........C=1, gamma=1, kernel=rbf;, score=-0.038 total time=   0.4s\n",
            "[CV 2/5] END .........C=1, gamma=1, kernel=rbf;, score=-0.027 total time=   0.4s\n",
            "[CV 3/5] END .........C=1, gamma=1, kernel=rbf;, score=-0.036 total time=   0.4s\n",
            "[CV 4/5] END .........C=1, gamma=1, kernel=rbf;, score=-0.040 total time=   0.4s\n",
            "[CV 5/5] END .........C=1, gamma=1, kernel=rbf;, score=-0.020 total time=   0.4s\n",
            "[CV 1/5] END .......C=1, gamma=0.1, kernel=rbf;, score=-0.039 total time=   0.4s\n",
            "[CV 2/5] END .......C=1, gamma=0.1, kernel=rbf;, score=-0.025 total time=   0.4s\n",
            "[CV 3/5] END .......C=1, gamma=0.1, kernel=rbf;, score=-0.036 total time=   0.4s\n",
            "[CV 4/5] END .......C=1, gamma=0.1, kernel=rbf;, score=-0.038 total time=   0.4s\n",
            "[CV 5/5] END .......C=1, gamma=0.1, kernel=rbf;, score=-0.022 total time=   0.4s\n",
            "[CV 1/5] END ......C=1, gamma=0.01, kernel=rbf;, score=-0.044 total time=   0.4s\n",
            "[CV 2/5] END ......C=1, gamma=0.01, kernel=rbf;, score=-0.026 total time=   0.4s\n",
            "[CV 3/5] END ......C=1, gamma=0.01, kernel=rbf;, score=-0.038 total time=   0.4s\n",
            "[CV 4/5] END ......C=1, gamma=0.01, kernel=rbf;, score=-0.015 total time=   0.4s\n",
            "[CV 5/5] END ......C=1, gamma=0.01, kernel=rbf;, score=-0.026 total time=   0.7s\n",
            "[CV 1/5] END .....C=1, gamma=0.001, kernel=rbf;, score=-0.030 total time=   0.7s\n",
            "[CV 2/5] END .....C=1, gamma=0.001, kernel=rbf;, score=-0.027 total time=   0.7s\n",
            "[CV 3/5] END .....C=1, gamma=0.001, kernel=rbf;, score=-0.051 total time=   0.7s\n",
            "[CV 4/5] END ......C=1, gamma=0.001, kernel=rbf;, score=0.004 total time=   0.5s\n",
            "[CV 5/5] END .....C=1, gamma=0.001, kernel=rbf;, score=-0.023 total time=   0.4s\n",
            "[CV 1/5] END ....C=1, gamma=0.0001, kernel=rbf;, score=-0.019 total time=   0.4s\n",
            "[CV 2/5] END ....C=1, gamma=0.0001, kernel=rbf;, score=-0.028 total time=   0.7s\n",
            "[CV 3/5] END ....C=1, gamma=0.0001, kernel=rbf;, score=-0.015 total time=   0.7s\n",
            "[CV 4/5] END .....C=1, gamma=0.0001, kernel=rbf;, score=0.010 total time=   0.7s\n",
            "[CV 5/5] END ....C=1, gamma=0.0001, kernel=rbf;, score=-0.040 total time=   0.7s\n",
            "[CV 1/5] END .........C=10, gamma=1, kernel=rbf;, score=0.000 total time=   0.4s\n",
            "[CV 2/5] END .........C=10, gamma=1, kernel=rbf;, score=0.001 total time=   0.4s\n",
            "[CV 3/5] END .........C=10, gamma=1, kernel=rbf;, score=0.001 total time=   0.5s\n",
            "[CV 4/5] END .........C=10, gamma=1, kernel=rbf;, score=0.001 total time=   0.4s\n",
            "[CV 5/5] END ........C=10, gamma=1, kernel=rbf;, score=-0.004 total time=   0.5s\n",
            "[CV 1/5] END .......C=10, gamma=0.1, kernel=rbf;, score=0.001 total time=   0.4s\n",
            "[CV 2/5] END .......C=10, gamma=0.1, kernel=rbf;, score=0.006 total time=   0.5s\n",
            "[CV 3/5] END .......C=10, gamma=0.1, kernel=rbf;, score=0.002 total time=   0.5s\n",
            "[CV 4/5] END .......C=10, gamma=0.1, kernel=rbf;, score=0.004 total time=   0.7s\n",
            "[CV 5/5] END ......C=10, gamma=0.1, kernel=rbf;, score=-0.002 total time=   0.8s\n",
            "[CV 1/5] END ......C=10, gamma=0.01, kernel=rbf;, score=0.004 total time=   0.9s\n",
            "[CV 2/5] END ......C=10, gamma=0.01, kernel=rbf;, score=0.009 total time=   0.8s\n",
            "[CV 3/5] END ......C=10, gamma=0.01, kernel=rbf;, score=0.002 total time=   0.5s\n",
            "[CV 4/5] END ......C=10, gamma=0.01, kernel=rbf;, score=0.075 total time=   0.5s\n",
            "[CV 5/5] END ......C=10, gamma=0.01, kernel=rbf;, score=0.022 total time=   0.5s\n",
            "[CV 1/5] END ....C=10, gamma=0.001, kernel=rbf;, score=-0.074 total time=   0.5s\n",
            "[CV 2/5] END ....C=10, gamma=0.001, kernel=rbf;, score=-0.085 total time=   0.5s\n",
            "[CV 3/5] END ....C=10, gamma=0.001, kernel=rbf;, score=-0.219 total time=   0.5s\n",
            "[CV 4/5] END .....C=10, gamma=0.001, kernel=rbf;, score=0.029 total time=   0.7s\n",
            "[CV 5/5] END ....C=10, gamma=0.001, kernel=rbf;, score=-0.050 total time=   1.0s\n",
            "[CV 1/5] END ...C=10, gamma=0.0001, kernel=rbf;, score=-0.207 total time=   1.1s\n",
            "[CV 2/5] END ...C=10, gamma=0.0001, kernel=rbf;, score=-0.317 total time=   1.1s\n",
            "[CV 3/5] END ...C=10, gamma=0.0001, kernel=rbf;, score=-0.335 total time=   1.2s\n",
            "[CV 4/5] END ...C=10, gamma=0.0001, kernel=rbf;, score=-0.142 total time=   1.0s\n",
            "[CV 5/5] END ...C=10, gamma=0.0001, kernel=rbf;, score=-0.143 total time=   1.0s\n",
            "[CV 1/5] END ........C=100, gamma=1, kernel=rbf;, score=0.000 total time=   0.8s\n",
            "[CV 2/5] END ........C=100, gamma=1, kernel=rbf;, score=0.001 total time=   0.8s\n",
            "[CV 3/5] END ........C=100, gamma=1, kernel=rbf;, score=0.001 total time=   0.5s\n",
            "[CV 4/5] END ........C=100, gamma=1, kernel=rbf;, score=0.001 total time=   0.5s\n",
            "[CV 5/5] END .......C=100, gamma=1, kernel=rbf;, score=-0.004 total time=   0.5s\n",
            "[CV 1/5] END ......C=100, gamma=0.1, kernel=rbf;, score=0.001 total time=   0.5s\n",
            "[CV 2/5] END ......C=100, gamma=0.1, kernel=rbf;, score=0.006 total time=   0.5s\n",
            "[CV 3/5] END ......C=100, gamma=0.1, kernel=rbf;, score=0.002 total time=   0.5s\n",
            "[CV 4/5] END ......C=100, gamma=0.1, kernel=rbf;, score=0.004 total time=   0.5s\n",
            "[CV 5/5] END .....C=100, gamma=0.1, kernel=rbf;, score=-0.002 total time=   0.4s\n",
            "[CV 1/5] END .....C=100, gamma=0.01, kernel=rbf;, score=0.004 total time=   0.5s\n",
            "[CV 2/5] END .....C=100, gamma=0.01, kernel=rbf;, score=0.009 total time=   0.5s\n",
            "[CV 3/5] END .....C=100, gamma=0.01, kernel=rbf;, score=0.002 total time=   0.5s\n",
            "[CV 4/5] END .....C=100, gamma=0.01, kernel=rbf;, score=0.075 total time=   0.5s\n",
            "[CV 5/5] END .....C=100, gamma=0.01, kernel=rbf;, score=0.023 total time=   0.5s\n",
            "[CV 1/5] END ...C=100, gamma=0.001, kernel=rbf;, score=-0.148 total time=   1.0s\n",
            "[CV 2/5] END ...C=100, gamma=0.001, kernel=rbf;, score=-0.144 total time=   1.3s\n",
            "[CV 3/5] END ...C=100, gamma=0.001, kernel=rbf;, score=-0.247 total time=   1.1s\n",
            "[CV 4/5] END ...C=100, gamma=0.001, kernel=rbf;, score=-0.005 total time=   0.7s\n",
            "[CV 5/5] END ...C=100, gamma=0.001, kernel=rbf;, score=-0.051 total time=   0.8s\n",
            "[CV 1/5] END ..C=100, gamma=0.0001, kernel=rbf;, score=-0.705 total time=   1.9s\n",
            "[CV 2/5] END ..C=100, gamma=0.0001, kernel=rbf;, score=-0.854 total time=   1.8s\n",
            "[CV 3/5] END ..C=100, gamma=0.0001, kernel=rbf;, score=-0.947 total time=   1.7s\n",
            "[CV 4/5] END ..C=100, gamma=0.0001, kernel=rbf;, score=-0.446 total time=   1.7s\n",
            "[CV 5/5] END ..C=100, gamma=0.0001, kernel=rbf;, score=-0.777 total time=   2.3s\n",
            "[CV 1/5] END .......C=1000, gamma=1, kernel=rbf;, score=0.000 total time=   0.8s\n",
            "[CV 2/5] END .......C=1000, gamma=1, kernel=rbf;, score=0.001 total time=   0.8s\n",
            "[CV 3/5] END .......C=1000, gamma=1, kernel=rbf;, score=0.001 total time=   0.5s\n",
            "[CV 4/5] END .......C=1000, gamma=1, kernel=rbf;, score=0.001 total time=   0.5s\n",
            "[CV 5/5] END ......C=1000, gamma=1, kernel=rbf;, score=-0.004 total time=   0.5s\n",
            "[CV 1/5] END .....C=1000, gamma=0.1, kernel=rbf;, score=0.001 total time=   0.5s\n",
            "[CV 2/5] END .....C=1000, gamma=0.1, kernel=rbf;, score=0.006 total time=   0.5s\n",
            "[CV 3/5] END .....C=1000, gamma=0.1, kernel=rbf;, score=0.002 total time=   0.5s\n",
            "[CV 4/5] END .....C=1000, gamma=0.1, kernel=rbf;, score=0.004 total time=   0.5s\n",
            "[CV 5/5] END ....C=1000, gamma=0.1, kernel=rbf;, score=-0.002 total time=   0.4s\n",
            "[CV 1/5] END ....C=1000, gamma=0.01, kernel=rbf;, score=0.004 total time=   0.5s\n",
            "[CV 2/5] END ....C=1000, gamma=0.01, kernel=rbf;, score=0.009 total time=   0.5s\n",
            "[CV 3/5] END ....C=1000, gamma=0.01, kernel=rbf;, score=0.002 total time=   0.5s\n",
            "[CV 4/5] END ....C=1000, gamma=0.01, kernel=rbf;, score=0.075 total time=   0.5s\n",
            "[CV 5/5] END ....C=1000, gamma=0.01, kernel=rbf;, score=0.023 total time=   0.5s\n",
            "[CV 1/5] END ..C=1000, gamma=0.001, kernel=rbf;, score=-0.148 total time=   0.7s\n",
            "[CV 2/5] END ..C=1000, gamma=0.001, kernel=rbf;, score=-0.142 total time=   0.7s\n",
            "[CV 3/5] END ..C=1000, gamma=0.001, kernel=rbf;, score=-0.249 total time=   0.8s\n",
            "[CV 4/5] END ..C=1000, gamma=0.001, kernel=rbf;, score=-0.006 total time=   0.7s\n",
            "[CV 5/5] END ..C=1000, gamma=0.001, kernel=rbf;, score=-0.050 total time=   0.8s\n",
            "[CV 1/5] END .C=1000, gamma=0.0001, kernel=rbf;, score=-0.820 total time=   9.1s\n",
            "[CV 2/5] END .C=1000, gamma=0.0001, kernel=rbf;, score=-0.968 total time=   9.5s\n",
            "[CV 3/5] END .C=1000, gamma=0.0001, kernel=rbf;, score=-1.098 total time=   9.8s\n",
            "[CV 4/5] END .C=1000, gamma=0.0001, kernel=rbf;, score=-0.666 total time=  10.3s\n",
            "[CV 5/5] END .C=1000, gamma=0.0001, kernel=rbf;, score=-0.741 total time=  10.9s\n"
          ]
        },
        {
          "output_type": "execute_result",
          "data": {
            "text/plain": [
              "GridSearchCV(estimator=SVR(),\n",
              "             param_grid={'C': [0.1, 1, 10, 100, 1000],\n",
              "                         'gamma': [1, 0.1, 0.01, 0.001, 0.0001],\n",
              "                         'kernel': ['rbf']},\n",
              "             verbose=3)"
            ],
            "text/html": [
              "<style>#sk-container-id-2 {color: black;background-color: white;}#sk-container-id-2 pre{padding: 0;}#sk-container-id-2 div.sk-toggleable {background-color: white;}#sk-container-id-2 label.sk-toggleable__label {cursor: pointer;display: block;width: 100%;margin-bottom: 0;padding: 0.3em;box-sizing: border-box;text-align: center;}#sk-container-id-2 label.sk-toggleable__label-arrow:before {content: \"▸\";float: left;margin-right: 0.25em;color: #696969;}#sk-container-id-2 label.sk-toggleable__label-arrow:hover:before {color: black;}#sk-container-id-2 div.sk-estimator:hover label.sk-toggleable__label-arrow:before {color: black;}#sk-container-id-2 div.sk-toggleable__content {max-height: 0;max-width: 0;overflow: hidden;text-align: left;background-color: #f0f8ff;}#sk-container-id-2 div.sk-toggleable__content pre {margin: 0.2em;color: black;border-radius: 0.25em;background-color: #f0f8ff;}#sk-container-id-2 input.sk-toggleable__control:checked~div.sk-toggleable__content {max-height: 200px;max-width: 100%;overflow: auto;}#sk-container-id-2 input.sk-toggleable__control:checked~label.sk-toggleable__label-arrow:before {content: \"▾\";}#sk-container-id-2 div.sk-estimator input.sk-toggleable__control:checked~label.sk-toggleable__label {background-color: #d4ebff;}#sk-container-id-2 div.sk-label input.sk-toggleable__control:checked~label.sk-toggleable__label {background-color: #d4ebff;}#sk-container-id-2 input.sk-hidden--visually {border: 0;clip: rect(1px 1px 1px 1px);clip: rect(1px, 1px, 1px, 1px);height: 1px;margin: -1px;overflow: hidden;padding: 0;position: absolute;width: 1px;}#sk-container-id-2 div.sk-estimator {font-family: monospace;background-color: #f0f8ff;border: 1px dotted black;border-radius: 0.25em;box-sizing: border-box;margin-bottom: 0.5em;}#sk-container-id-2 div.sk-estimator:hover {background-color: #d4ebff;}#sk-container-id-2 div.sk-parallel-item::after {content: \"\";width: 100%;border-bottom: 1px solid gray;flex-grow: 1;}#sk-container-id-2 div.sk-label:hover label.sk-toggleable__label {background-color: #d4ebff;}#sk-container-id-2 div.sk-serial::before {content: \"\";position: absolute;border-left: 1px solid gray;box-sizing: border-box;top: 0;bottom: 0;left: 50%;z-index: 0;}#sk-container-id-2 div.sk-serial {display: flex;flex-direction: column;align-items: center;background-color: white;padding-right: 0.2em;padding-left: 0.2em;position: relative;}#sk-container-id-2 div.sk-item {position: relative;z-index: 1;}#sk-container-id-2 div.sk-parallel {display: flex;align-items: stretch;justify-content: center;background-color: white;position: relative;}#sk-container-id-2 div.sk-item::before, #sk-container-id-2 div.sk-parallel-item::before {content: \"\";position: absolute;border-left: 1px solid gray;box-sizing: border-box;top: 0;bottom: 0;left: 50%;z-index: -1;}#sk-container-id-2 div.sk-parallel-item {display: flex;flex-direction: column;z-index: 1;position: relative;background-color: white;}#sk-container-id-2 div.sk-parallel-item:first-child::after {align-self: flex-end;width: 50%;}#sk-container-id-2 div.sk-parallel-item:last-child::after {align-self: flex-start;width: 50%;}#sk-container-id-2 div.sk-parallel-item:only-child::after {width: 0;}#sk-container-id-2 div.sk-dashed-wrapped {border: 1px dashed gray;margin: 0 0.4em 0.5em 0.4em;box-sizing: border-box;padding-bottom: 0.4em;background-color: white;}#sk-container-id-2 div.sk-label label {font-family: monospace;font-weight: bold;display: inline-block;line-height: 1.2em;}#sk-container-id-2 div.sk-label-container {text-align: center;}#sk-container-id-2 div.sk-container {/* jupyter's `normalize.less` sets `[hidden] { display: none; }` but bootstrap.min.css set `[hidden] { display: none !important; }` so we also need the `!important` here to be able to override the default hidden behavior on the sphinx rendered scikit-learn.org. See: https://github.com/scikit-learn/scikit-learn/issues/21755 */display: inline-block !important;position: relative;}#sk-container-id-2 div.sk-text-repr-fallback {display: none;}</style><div id=\"sk-container-id-2\" class=\"sk-top-container\"><div class=\"sk-text-repr-fallback\"><pre>GridSearchCV(estimator=SVR(),\n",
              "             param_grid={&#x27;C&#x27;: [0.1, 1, 10, 100, 1000],\n",
              "                         &#x27;gamma&#x27;: [1, 0.1, 0.01, 0.001, 0.0001],\n",
              "                         &#x27;kernel&#x27;: [&#x27;rbf&#x27;]},\n",
              "             verbose=3)</pre><b>In a Jupyter environment, please rerun this cell to show the HTML representation or trust the notebook. <br />On GitHub, the HTML representation is unable to render, please try loading this page with nbviewer.org.</b></div><div class=\"sk-container\" hidden><div class=\"sk-item sk-dashed-wrapped\"><div class=\"sk-label-container\"><div class=\"sk-label sk-toggleable\"><input class=\"sk-toggleable__control sk-hidden--visually\" id=\"sk-estimator-id-2\" type=\"checkbox\" ><label for=\"sk-estimator-id-2\" class=\"sk-toggleable__label sk-toggleable__label-arrow\">GridSearchCV</label><div class=\"sk-toggleable__content\"><pre>GridSearchCV(estimator=SVR(),\n",
              "             param_grid={&#x27;C&#x27;: [0.1, 1, 10, 100, 1000],\n",
              "                         &#x27;gamma&#x27;: [1, 0.1, 0.01, 0.001, 0.0001],\n",
              "                         &#x27;kernel&#x27;: [&#x27;rbf&#x27;]},\n",
              "             verbose=3)</pre></div></div></div><div class=\"sk-parallel\"><div class=\"sk-parallel-item\"><div class=\"sk-item\"><div class=\"sk-label-container\"><div class=\"sk-label sk-toggleable\"><input class=\"sk-toggleable__control sk-hidden--visually\" id=\"sk-estimator-id-3\" type=\"checkbox\" ><label for=\"sk-estimator-id-3\" class=\"sk-toggleable__label sk-toggleable__label-arrow\">estimator: SVR</label><div class=\"sk-toggleable__content\"><pre>SVR()</pre></div></div></div><div class=\"sk-serial\"><div class=\"sk-item\"><div class=\"sk-estimator sk-toggleable\"><input class=\"sk-toggleable__control sk-hidden--visually\" id=\"sk-estimator-id-4\" type=\"checkbox\" ><label for=\"sk-estimator-id-4\" class=\"sk-toggleable__label sk-toggleable__label-arrow\">SVR</label><div class=\"sk-toggleable__content\"><pre>SVR()</pre></div></div></div></div></div></div></div></div></div></div>"
            ]
          },
          "metadata": {},
          "execution_count": 32
        }
      ]
    },
    {
      "cell_type": "code",
      "source": [
        "svr = SVR(C=10, gamma=0.01, kernel='rbf')\n",
        "svr.fit(X_train, y_train)\n",
        "svr_pred = svr.predict(X_test)"
      ],
      "metadata": {
        "id": "Rtd6rslsg_a0"
      },
      "execution_count": 33,
      "outputs": []
    },
    {
      "cell_type": "code",
      "source": [
        "import joblib\n",
        "\n",
        "joblib.dump(ri, 'model.pkl')\n",
        "\n",
        "ridge_from_joblib = model = joblib.load(\"model.pkl\")"
      ],
      "metadata": {
        "id": "lofJOG9Hhfxq"
      },
      "execution_count": 34,
      "outputs": []
    },
    {
      "cell_type": "code",
      "source": [],
      "metadata": {
        "id": "Sqog3pnmhwjy"
      },
      "execution_count": null,
      "outputs": []
    }
  ]
}