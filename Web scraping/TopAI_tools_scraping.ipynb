{
  "nbformat": 4,
  "nbformat_minor": 0,
  "metadata": {
    "colab": {
      "provenance": []
    },
    "kernelspec": {
      "name": "python3",
      "display_name": "Python 3"
    },
    "language_info": {
      "name": "python"
    }
  },
  "cells": [
    {
      "cell_type": "code",
      "execution_count": 63,
      "metadata": {
        "id": "LbJbKI-89j2o"
      },
      "outputs": [],
      "source": [
        "#import libraries\n",
        "from bs4 import BeautifulSoup\n",
        "import requests\n",
        "import time\n",
        "import datetime\n",
        "import smtplib\n",
        "import pandas as pd"
      ]
    },
    {
      "cell_type": "code",
      "source": [
        "URL = \"https://topai.tools/browse\"\n",
        "headers = {\"User-Agent\": \"Mozilla/5.0 (Windows NT 10.0; Win64; x64) AppleWebKit/537.36 (KHTML, like Gecko) Chrome/78.0.3904.108 Safari/537.36\", \"Accept-Encoding\":\"gzip, deflate\", \"Accept\":\"text/html,application/xhtml+xml,application/xml;q=0.9,*/*;q=0.8\", \"DNT\":\"1\",\"Connection\":\"close\", \"Upgrade-Insecure-Requests\":\"1\"}\n"
      ],
      "metadata": {
        "id": "esClKjHZBSRe"
      },
      "execution_count": 64,
      "outputs": []
    },
    {
      "cell_type": "code",
      "source": [
        "webpage=requests.get(URL,headers=headers)\n",
        "webpage"
      ],
      "metadata": {
        "colab": {
          "base_uri": "https://localhost:8080/"
        },
        "id": "_TuXrDxzBSUD",
        "outputId": "aa67a524-7753-4974-ff70-c45325d3cd72"
      },
      "execution_count": 65,
      "outputs": [
        {
          "output_type": "execute_result",
          "data": {
            "text/plain": [
              "<Response [200]>"
            ]
          },
          "metadata": {},
          "execution_count": 65
        }
      ]
    },
    {
      "cell_type": "code",
      "source": [
        "soup=BeautifulSoup(webpage.content,'html.parser')"
      ],
      "metadata": {
        "id": "kIAVmANOBSW4"
      },
      "execution_count": 66,
      "outputs": []
    },
    {
      "cell_type": "code",
      "source": [
        "soup2 = BeautifulSoup(soup.prettify(), \"html.parser\")\n"
      ],
      "metadata": {
        "id": "7fyn27AABSZP"
      },
      "execution_count": 67,
      "outputs": []
    },
    {
      "cell_type": "code",
      "source": [
        "# print(soup.find_all(\"div\",class_=\"col-xl-4 col-lg-4 col-md-6 tool_box\"))"
      ],
      "metadata": {
        "id": "EcJkCimJBScL"
      },
      "execution_count": 68,
      "outputs": []
    },
    {
      "cell_type": "code",
      "source": [
        "# print(soup.find_all(\"div\",class_=\"tool-wrapper bg-dark p-1 m-2 rounded shadow-sm\"))\n",
        "# Output:-\n",
        "# <div class=\"tool-wrapper bg-dark p-1 m-2 rounded shadow-sm\">\n",
        "# <div class=\"tool-image\">\n",
        "# <a href=\"/t/kome\" target=\"_blank\"><img alt=\"Kome\" class=\"img-fluid rounded\" loading=\"lazy\" onerror=\"loadPlaceHolder(event)\" src=\"/assets/img/tools/kome.webp\"/></a>\n",
        "# </div>\n",
        "# <div>\n",
        "# <a href=\"/t/kome\" target=\"_blank\">\n",
        "# <h5 class=\"mt-3 mb-2 px-1\">\n",
        "# Kome\n",
        "# <a class=\"mx-2 rounded p-1\" href=\"https://kome.ai/?ref=topaitools\" rel=\"nofollow\" target=\"_blank\"><i class=\"bi bi-box-arrow-up-right\"></i></a>\n",
        "# <small class=\"float-end\"><span class=\"badge float-end bg-black mr-2 pricing-badge\">Freemium</span>\n",
        "# </small>\n",
        "# </h5>\n",
        "# <p class=\"my-1 font-weight-lighter px-1\" style=\"height:80px;font-size:15px\">Kome is an all-in-one AI-powered bookmark extension that enhances your online browsing experience. W..</p>\n",
        "# </a>\n",
        "# </div>\n",
        "# <div class=\"mb-3 px-2\">\n",
        "# <div class=\"form-check\">\n",
        "# <input class=\"form-check-input toollistcheckbox\" data-id=\"4533\" id=\"checkboxtool-4533\" onchange=\"storeToollist(event)\" type=\"checkbox\"/>\n",
        "# <label class=\"form-check-label text-muted\">Shortlist</label>\n",
        "# </div>\n",
        "# </div>\n",
        "# <p class=\"px-1\">\n",
        "# <span class=\"badge bg-black\"><a href=\"/filter?t=Summarizer\">Summarizer</a></span>\n",
        "# <span class=\"badge bg-black\"><a href=\"/filter?t=Productivity\">Productivity</a></span>\n",
        "# <i class=\"bi bi-heart float-end icons\" data-id=\"kome\" data-image=\"kome.webp\" data-tags=\"Summarizer,Productivity\" data-title=\"Kome\" data-website=\"https://kome.ai/\" id=\"kome\" onclick=\"bookmarkIt(event)\" style=\"font-size:24px\"></i>\n",
        "# </p>\n",
        "# </div>"
      ],
      "metadata": {
        "id": "zLLrKhRuBSe_"
      },
      "execution_count": 69,
      "outputs": []
    },
    {
      "cell_type": "code",
      "source": [
        "tools = soup.find_all(\"div\",class_=\"tool-wrapper bg-dark p-1 m-2 rounded shadow-sm\")\n",
        "for tool in tools:\n",
        "        image = tool.find('img')\n",
        "        tool_name = image.attrs['alt']\n",
        "        print(tool_name)"
      ],
      "metadata": {
        "colab": {
          "base_uri": "https://localhost:8080/"
        },
        "id": "eWvosrIvtFtX",
        "outputId": "2cbcd634-45cf-42b5-d650-c87759f30499"
      },
      "execution_count": 70,
      "outputs": [
        {
          "output_type": "stream",
          "name": "stdout",
          "text": [
            "Kome\n",
            "HeyLibby\n",
            "B2BRocket\n",
            "WPTurbo\n",
            "BrainyPDF\n",
            "InterviewAI\n",
            "Machined.ai\n",
            "MyShell\n",
            "mst.ai\n",
            "Zentask\n",
            "Copilot2trip.com\n",
            "RizeMail\n",
            "ProAI Image Generator\n",
            "GenixGPT - Travel AI\n",
            "Coginiti\n",
            "Everbility\n",
            "TextLayer\n",
            "Chat2CSV\n"
          ]
        }
      ]
    },
    {
      "cell_type": "code",
      "source": [
        "def scrape_tools():\n",
        "    base_url = \"https://topai.tools/browse\"\n",
        "    tools_data = []\n",
        "\n",
        "    response = requests.get(base_url)\n",
        "    soup = BeautifulSoup(response.content, \"html.parser\")\n",
        "    tools = soup.find_all(\"div\", class_=\"tool-wrapper bg-dark p-1 m-2 rounded shadow-sm\")\n",
        "\n",
        "\n",
        "\n",
        "    for tool in tools:\n",
        "        image = tool.find('img')\n",
        "        tool_name = image.attrs['alt']\n",
        "        tool_url = tool.find(\"a\", class_=\"mx-2 rounded p-1\")[\"href\"]\n",
        "        tool_description = tool.find(\"p\", class_=\"my-1 font-weight-lighter px-1\").text\n",
        "        tool_pricing = tool.find(\"span\", class_=\"badge float-end bg-black mr-2 pricing-badge\").text\n",
        "        i = tool.find('i', class_=\"bi bi-heart float-end icons\")\n",
        "        tool_use_cases = i.attrs['data-tags']\n",
        "\n",
        "        tools_data.append({\n",
        "            \"Tool Name\": tool_name,\n",
        "            \"Tool URL\": tool_url,\n",
        "            \"What is\": tool_description,\n",
        "            \"Pricing\": tool_pricing,\n",
        "            \"Tool possible use cases\": tool_use_cases\n",
        "        })\n",
        "        print( tool_name, tool_url, tool_description, tool_pricing, tool_use_cases)\n",
        "\n",
        "\n",
        "\n",
        "\n",
        "\n",
        "    return tools_data\n",
        "\n",
        "if __name__ == \"__main__\":\n",
        "    tools_data = scrape_tools()\n",
        "\n",
        "    df = pd.DataFrame(tools_data)\n",
        "    df.to_csv(\"tools_data.csv\", index=False)"
      ],
      "metadata": {
        "id": "UQscRv0eDblS",
        "outputId": "b79e36c9-9adb-42d0-8712-cd8b7c0b4b2f",
        "colab": {
          "base_uri": "https://localhost:8080/"
        }
      },
      "execution_count": 85,
      "outputs": [
        {
          "output_type": "stream",
          "name": "stdout",
          "text": [
            "Kome https://kome.ai/?ref=topaitools Kome is an all-in-one AI-powered bookmark extension that enhances your online browsing experience. W.. Freemium Summarizer,Productivity\n",
            "HeyLibby https://heylibby.ai/?ref=topaitools HeyLibby.ai is an AI tool that helps you streamline your lead generation and lead management process.. Free Sales,Business\n",
            "B2BRocket https://www.b2brocket.ai/?ref=topaitools B2B Rocket AI is an innovative AI tool designed to boost the B2B sales process. B2B Rocket AI's prop.. Subscription Sales,Business,Automation\n",
            "WPTurbo https://wpturbo.dev/?ref=topaitools WPTurbo gathers WordPress development tools to help website creators to ship them faster. The main t.. Freemium Developer tools,Wordpress\n",
            "BrainyPDF https://brainypdf.com/?ref=topaitools BrainyPDF is an AI tool that helps you chat with any PDF document. It allows students, researchers, .. Free Chat,Document Search,Research,Productivity,Students\n",
            "InterviewAI https://www.interviewai.io/?ref=topaitools InterviewAI is an AI-powered platform that revolutionizes the interview process. With its real-time ..  Human resources\n",
            "Machined.ai https://machined.ai/?ref=topaitools Machined.ai is an AI-powered tool that automates the process of building content clusters. With just.. Free trial Content creation,SEO\n",
            "MyShell https://myshell.ai/?ref=topaitools MyShell is an innovative chatbot platform that allows you to create personalized chatbots called She.. Usage based Chatbots\n",
            "mst.ai https://mst.ai/?ref=topaitools Ministerai is a free online AI art generator that allows you to unleash the power of your imaginatio.. Free Art Generation,Image Generation\n",
            "Zentask https://zentask.ai/?ref=topaitools Zentask is an AI-powered solution that simplifies work and boosts productivity. It offers a range of.. Freemium Content Creation,Productivity\n",
            "Copilot2trip.com https://copilot2trip.com/?ref=topaitools Copilot2trip is an AI-powered personal travel assistant that helps you plan your trips with ease. Wi.. Freemium Travel,Life Assistant\n",
            "RizeMail https://www.rizemail.app/?ref=topaitools Rizemail summarizes your emails without you having to leave your inbox. No installs. For free. You s.. Free Email,Productivity\n",
            "ProAI Image Generator https://thetubepro.com/proai-image-generator/?ref=topaitools ProAI is an AI image and art generator, that can be used to generate free images, with different use.. Freemium Image Generation,Art Generation\n",
            "GenixGPT - Travel AI https://www.genixgpt.com/?ref=topaitools GenixGPT is an AI travel planner that helps you discover the best hidden gems and off-the-beaten-pat.. Free trial Travel,Life Assistant\n",
            "Coginiti https://www.coginiti.co/ai-analytics-advisor/?ref=topaitools Coginiti AI is an AI data analytics assistant that helps users produce consistent high-quality insig.. Free trial Data analysis,Business,Startup tools\n",
            "Everbility https://www.everbility.com/?ref=topaitools Everbility is an AI-powered documentation assistant designed specifically for occupational therapist.. Freemium AI Assistant\n",
            "TextLayer https://textlayer.ai/?ref=topaitools Textlayer is an AI-powered research companion that simplifies access to the latest research and mach.. Freemium Research\n",
            "Chat2CSV https://chat2csv.com/?ref=topaitools Chat2CSV will help you chat with your CSV files in natural language. Transform your data into charts.. Freemium Data analysis\n"
          ]
        }
      ]
    },
    {
      "cell_type": "code",
      "source": [
        "df=pd.read_csv('/content/tools_data.csv')\n",
        "df.head()\n"
      ],
      "metadata": {
        "id": "yI0MumR69wWW",
        "colab": {
          "base_uri": "https://localhost:8080/",
          "height": 206
        },
        "outputId": "67ce210e-fb81-43b5-bce3-482e968e2ae2"
      },
      "execution_count": 86,
      "outputs": [
        {
          "output_type": "execute_result",
          "data": {
            "text/plain": [
              "   Tool Name                                  Tool URL  \\\n",
              "0       Kome           https://kome.ai/?ref=topaitools   \n",
              "1   HeyLibby       https://heylibby.ai/?ref=topaitools   \n",
              "2  B2BRocket  https://www.b2brocket.ai/?ref=topaitools   \n",
              "3    WPTurbo       https://wpturbo.dev/?ref=topaitools   \n",
              "4  BrainyPDF     https://brainypdf.com/?ref=topaitools   \n",
              "\n",
              "                                             What is       Pricing  \\\n",
              "0  Kome is an all-in-one AI-powered bookmark exte...      Freemium   \n",
              "1  HeyLibby.ai is an AI tool that helps you strea...          Free   \n",
              "2  B2B Rocket AI is an innovative AI tool designe...  Subscription   \n",
              "3  WPTurbo gathers WordPress development tools to...      Freemium   \n",
              "4  BrainyPDF is an AI tool that helps you chat wi...          Free   \n",
              "\n",
              "                             Tool possible use cases  \n",
              "0                            Summarizer,Productivity  \n",
              "1                                     Sales,Business  \n",
              "2                          Sales,Business,Automation  \n",
              "3                          Developer tools,Wordpress  \n",
              "4  Chat,Document Search,Research,Productivity,Stu...  "
            ],
            "text/html": [
              "\n",
              "\n",
              "  <div id=\"df-7abf39dc-dcff-44d7-bf45-0752695a673d\">\n",
              "    <div class=\"colab-df-container\">\n",
              "      <div>\n",
              "<style scoped>\n",
              "    .dataframe tbody tr th:only-of-type {\n",
              "        vertical-align: middle;\n",
              "    }\n",
              "\n",
              "    .dataframe tbody tr th {\n",
              "        vertical-align: top;\n",
              "    }\n",
              "\n",
              "    .dataframe thead th {\n",
              "        text-align: right;\n",
              "    }\n",
              "</style>\n",
              "<table border=\"1\" class=\"dataframe\">\n",
              "  <thead>\n",
              "    <tr style=\"text-align: right;\">\n",
              "      <th></th>\n",
              "      <th>Tool Name</th>\n",
              "      <th>Tool URL</th>\n",
              "      <th>What is</th>\n",
              "      <th>Pricing</th>\n",
              "      <th>Tool possible use cases</th>\n",
              "    </tr>\n",
              "  </thead>\n",
              "  <tbody>\n",
              "    <tr>\n",
              "      <th>0</th>\n",
              "      <td>Kome</td>\n",
              "      <td>https://kome.ai/?ref=topaitools</td>\n",
              "      <td>Kome is an all-in-one AI-powered bookmark exte...</td>\n",
              "      <td>Freemium</td>\n",
              "      <td>Summarizer,Productivity</td>\n",
              "    </tr>\n",
              "    <tr>\n",
              "      <th>1</th>\n",
              "      <td>HeyLibby</td>\n",
              "      <td>https://heylibby.ai/?ref=topaitools</td>\n",
              "      <td>HeyLibby.ai is an AI tool that helps you strea...</td>\n",
              "      <td>Free</td>\n",
              "      <td>Sales,Business</td>\n",
              "    </tr>\n",
              "    <tr>\n",
              "      <th>2</th>\n",
              "      <td>B2BRocket</td>\n",
              "      <td>https://www.b2brocket.ai/?ref=topaitools</td>\n",
              "      <td>B2B Rocket AI is an innovative AI tool designe...</td>\n",
              "      <td>Subscription</td>\n",
              "      <td>Sales,Business,Automation</td>\n",
              "    </tr>\n",
              "    <tr>\n",
              "      <th>3</th>\n",
              "      <td>WPTurbo</td>\n",
              "      <td>https://wpturbo.dev/?ref=topaitools</td>\n",
              "      <td>WPTurbo gathers WordPress development tools to...</td>\n",
              "      <td>Freemium</td>\n",
              "      <td>Developer tools,Wordpress</td>\n",
              "    </tr>\n",
              "    <tr>\n",
              "      <th>4</th>\n",
              "      <td>BrainyPDF</td>\n",
              "      <td>https://brainypdf.com/?ref=topaitools</td>\n",
              "      <td>BrainyPDF is an AI tool that helps you chat wi...</td>\n",
              "      <td>Free</td>\n",
              "      <td>Chat,Document Search,Research,Productivity,Stu...</td>\n",
              "    </tr>\n",
              "  </tbody>\n",
              "</table>\n",
              "</div>\n",
              "      <button class=\"colab-df-convert\" onclick=\"convertToInteractive('df-7abf39dc-dcff-44d7-bf45-0752695a673d')\"\n",
              "              title=\"Convert this dataframe to an interactive table.\"\n",
              "              style=\"display:none;\">\n",
              "\n",
              "  <svg xmlns=\"http://www.w3.org/2000/svg\" height=\"24px\"viewBox=\"0 0 24 24\"\n",
              "       width=\"24px\">\n",
              "    <path d=\"M0 0h24v24H0V0z\" fill=\"none\"/>\n",
              "    <path d=\"M18.56 5.44l.94 2.06.94-2.06 2.06-.94-2.06-.94-.94-2.06-.94 2.06-2.06.94zm-11 1L8.5 8.5l.94-2.06 2.06-.94-2.06-.94L8.5 2.5l-.94 2.06-2.06.94zm10 10l.94 2.06.94-2.06 2.06-.94-2.06-.94-.94-2.06-.94 2.06-2.06.94z\"/><path d=\"M17.41 7.96l-1.37-1.37c-.4-.4-.92-.59-1.43-.59-.52 0-1.04.2-1.43.59L10.3 9.45l-7.72 7.72c-.78.78-.78 2.05 0 2.83L4 21.41c.39.39.9.59 1.41.59.51 0 1.02-.2 1.41-.59l7.78-7.78 2.81-2.81c.8-.78.8-2.07 0-2.86zM5.41 20L4 18.59l7.72-7.72 1.47 1.35L5.41 20z\"/>\n",
              "  </svg>\n",
              "      </button>\n",
              "\n",
              "\n",
              "\n",
              "    <div id=\"df-b1156a69-39c4-4616-8d7d-935acff17a8a\">\n",
              "      <button class=\"colab-df-quickchart\" onclick=\"quickchart('df-b1156a69-39c4-4616-8d7d-935acff17a8a')\"\n",
              "              title=\"Suggest charts.\"\n",
              "              style=\"display:none;\">\n",
              "\n",
              "<svg xmlns=\"http://www.w3.org/2000/svg\" height=\"24px\"viewBox=\"0 0 24 24\"\n",
              "     width=\"24px\">\n",
              "    <g>\n",
              "        <path d=\"M19 3H5c-1.1 0-2 .9-2 2v14c0 1.1.9 2 2 2h14c1.1 0 2-.9 2-2V5c0-1.1-.9-2-2-2zM9 17H7v-7h2v7zm4 0h-2V7h2v10zm4 0h-2v-4h2v4z\"/>\n",
              "    </g>\n",
              "</svg>\n",
              "      </button>\n",
              "    </div>\n",
              "\n",
              "<style>\n",
              "  .colab-df-quickchart {\n",
              "    background-color: #E8F0FE;\n",
              "    border: none;\n",
              "    border-radius: 50%;\n",
              "    cursor: pointer;\n",
              "    display: none;\n",
              "    fill: #1967D2;\n",
              "    height: 32px;\n",
              "    padding: 0 0 0 0;\n",
              "    width: 32px;\n",
              "  }\n",
              "\n",
              "  .colab-df-quickchart:hover {\n",
              "    background-color: #E2EBFA;\n",
              "    box-shadow: 0px 1px 2px rgba(60, 64, 67, 0.3), 0px 1px 3px 1px rgba(60, 64, 67, 0.15);\n",
              "    fill: #174EA6;\n",
              "  }\n",
              "\n",
              "  [theme=dark] .colab-df-quickchart {\n",
              "    background-color: #3B4455;\n",
              "    fill: #D2E3FC;\n",
              "  }\n",
              "\n",
              "  [theme=dark] .colab-df-quickchart:hover {\n",
              "    background-color: #434B5C;\n",
              "    box-shadow: 0px 1px 3px 1px rgba(0, 0, 0, 0.15);\n",
              "    filter: drop-shadow(0px 1px 2px rgba(0, 0, 0, 0.3));\n",
              "    fill: #FFFFFF;\n",
              "  }\n",
              "</style>\n",
              "\n",
              "    <script>\n",
              "      async function quickchart(key) {\n",
              "        const containerElement = document.querySelector('#' + key);\n",
              "        const charts = await google.colab.kernel.invokeFunction(\n",
              "            'suggestCharts', [key], {});\n",
              "      }\n",
              "    </script>\n",
              "\n",
              "      <script>\n",
              "\n",
              "function displayQuickchartButton(domScope) {\n",
              "  let quickchartButtonEl =\n",
              "    domScope.querySelector('#df-b1156a69-39c4-4616-8d7d-935acff17a8a button.colab-df-quickchart');\n",
              "  quickchartButtonEl.style.display =\n",
              "    google.colab.kernel.accessAllowed ? 'block' : 'none';\n",
              "}\n",
              "\n",
              "        displayQuickchartButton(document);\n",
              "      </script>\n",
              "      <style>\n",
              "    .colab-df-container {\n",
              "      display:flex;\n",
              "      flex-wrap:wrap;\n",
              "      gap: 12px;\n",
              "    }\n",
              "\n",
              "    .colab-df-convert {\n",
              "      background-color: #E8F0FE;\n",
              "      border: none;\n",
              "      border-radius: 50%;\n",
              "      cursor: pointer;\n",
              "      display: none;\n",
              "      fill: #1967D2;\n",
              "      height: 32px;\n",
              "      padding: 0 0 0 0;\n",
              "      width: 32px;\n",
              "    }\n",
              "\n",
              "    .colab-df-convert:hover {\n",
              "      background-color: #E2EBFA;\n",
              "      box-shadow: 0px 1px 2px rgba(60, 64, 67, 0.3), 0px 1px 3px 1px rgba(60, 64, 67, 0.15);\n",
              "      fill: #174EA6;\n",
              "    }\n",
              "\n",
              "    [theme=dark] .colab-df-convert {\n",
              "      background-color: #3B4455;\n",
              "      fill: #D2E3FC;\n",
              "    }\n",
              "\n",
              "    [theme=dark] .colab-df-convert:hover {\n",
              "      background-color: #434B5C;\n",
              "      box-shadow: 0px 1px 3px 1px rgba(0, 0, 0, 0.15);\n",
              "      filter: drop-shadow(0px 1px 2px rgba(0, 0, 0, 0.3));\n",
              "      fill: #FFFFFF;\n",
              "    }\n",
              "  </style>\n",
              "\n",
              "      <script>\n",
              "        const buttonEl =\n",
              "          document.querySelector('#df-7abf39dc-dcff-44d7-bf45-0752695a673d button.colab-df-convert');\n",
              "        buttonEl.style.display =\n",
              "          google.colab.kernel.accessAllowed ? 'block' : 'none';\n",
              "\n",
              "        async function convertToInteractive(key) {\n",
              "          const element = document.querySelector('#df-7abf39dc-dcff-44d7-bf45-0752695a673d');\n",
              "          const dataTable =\n",
              "            await google.colab.kernel.invokeFunction('convertToInteractive',\n",
              "                                                     [key], {});\n",
              "          if (!dataTable) return;\n",
              "\n",
              "          const docLinkHtml = 'Like what you see? Visit the ' +\n",
              "            '<a target=\"_blank\" href=https://colab.research.google.com/notebooks/data_table.ipynb>data table notebook</a>'\n",
              "            + ' to learn more about interactive tables.';\n",
              "          element.innerHTML = '';\n",
              "          dataTable['output_type'] = 'display_data';\n",
              "          await google.colab.output.renderOutput(dataTable, element);\n",
              "          const docLink = document.createElement('div');\n",
              "          docLink.innerHTML = docLinkHtml;\n",
              "          element.appendChild(docLink);\n",
              "        }\n",
              "      </script>\n",
              "    </div>\n",
              "  </div>\n"
            ]
          },
          "metadata": {},
          "execution_count": 86
        }
      ]
    },
    {
      "cell_type": "code",
      "source": [],
      "metadata": {
        "id": "NLvocaZr-32J"
      },
      "execution_count": null,
      "outputs": []
    }
  ]
}