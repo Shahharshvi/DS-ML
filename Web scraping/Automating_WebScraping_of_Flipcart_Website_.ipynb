{
  "nbformat": 4,
  "nbformat_minor": 0,
  "metadata": {
    "colab": {
      "provenance": []
    },
    "kernelspec": {
      "name": "python3",
      "display_name": "Python 3"
    },
    "language_info": {
      "name": "python"
    }
  },
  "cells": [
    {
      "cell_type": "code",
      "source": [
        "from autoscraper import AutoScraper"
      ],
      "metadata": {
        "id": "iiRmkD_nGUna"
      },
      "execution_count": 4,
      "outputs": []
    },
    {
      "cell_type": "code",
      "source": [
        "url=\"https://www.flipkart.com/search?q=mobiles&as=on&as-show=on&otracker=AS_Query_TrendingAutoSuggest_2_0_na_na_na&otracker1=AS_Query_TrendingAutoSuggest_2_0_na_na_na&as-pos=2&as-type=TRENDING&suggestionId=mobiles&requestId=10cf9b28-3f0c-40a9-bb11-59ef8e62bd57s\"\n",
        "\n",
        "wanted_list=[\"POCO C51 (Royal Blue, 64 GB)\",\"₹6,999\"]"
      ],
      "metadata": {
        "id": "IDAnUiHkGNd9"
      },
      "execution_count": 7,
      "outputs": []
    },
    {
      "cell_type": "code",
      "source": [
        "scraper=AutoScraper()\n",
        "result=scraper.build(url,wanted_list)\n",
        "print(result)"
      ],
      "metadata": {
        "colab": {
          "base_uri": "https://localhost:8080/"
        },
        "id": "_QmP5cd8GfTS",
        "outputId": "0179559c-4390-418f-e924-b00de138b878"
      },
      "execution_count": 8,
      "outputs": [
        {
          "output_type": "stream",
          "name": "stdout",
          "text": [
            "['POCO C50 (Royal Blue, 32 GB)', 'REDMI 10 (Shadow Black, 64 GB)', 'POCO M4 5G (Cool Blue, 64 GB)', 'POCO C51 (Royal Blue, 64 GB)', 'Infinix SMART 7 (Emerald Green, 64 GB)', 'REDMI 11 Prime (Peppy Purple, 128 GB)', 'REDMI 11 Prime (Playful Green, 128 GB)', 'POCO C51 (Power Black, 64 GB)', 'Infinix Smart 7 HD (Green Apple, 64 GB)', 'REDMI 11 Prime (Flashy Black, 128 GB)', 'POCO C50 (Country Green, 32 GB)', 'Infinix SMART 7 (Azure Blue, 64 GB)', 'Infinix SMART 7 (Night Black, 64 GB)', 'REDMI A1+ (Light Blue, 32 GB)', 'POCO C55 (Forest Green, 64 GB)', 'MOTOROLA G32 (Mineral Gray, 128 GB)', 'Infinix HOT 30i (Glacier Blue, 128 GB)', 'Infinix HOT 30i (Marigold, 128 GB)', 'Infinix HOT 30i (Mirror Black, 128 GB)', 'Infinix HOT 30i (Diamond White, 128 GB)', 'Infinix HOT 30i (Glacier Blue, 64 GB)', 'Infinix HOT 30i (Diamond White, 64 GB)', 'Infinix HOT 30i (Marigold, 64 GB)', 'Infinix HOT 30i (Mirror Black, 64 GB)', '₹5,499', '₹9,499', '₹12,999', '₹6,999', '₹7,499', '₹10,999', '₹6,199', '₹6,749', '₹7,749', '₹11,999', '₹8,399']\n"
          ]
        }
      ]
    },
    {
      "cell_type": "code",
      "source": [
        "scraper.get_result_similar(url,grouped=True)"
      ],
      "metadata": {
        "colab": {
          "base_uri": "https://localhost:8080/"
        },
        "id": "mGdrntEUGhQ0",
        "outputId": "4142e569-56c4-4cfd-e734-24eff665efe2"
      },
      "execution_count": 10,
      "outputs": [
        {
          "output_type": "execute_result",
          "data": {
            "text/plain": [
              "{'rule_tbhq': ['POCO C50 (Royal Blue, 32 GB)',\n",
              "  'REDMI 10 (Shadow Black, 64 GB)',\n",
              "  'POCO M4 5G (Cool Blue, 64 GB)',\n",
              "  'POCO C51 (Royal Blue, 64 GB)',\n",
              "  'Infinix SMART 7 (Emerald Green, 64 GB)'],\n",
              " 'rule_nh92': ['POCO C51 (Royal Blue, 64 GB)',\n",
              "  'POCO C50 (Royal Blue, 32 GB)',\n",
              "  'REDMI 11 Prime (Peppy Purple, 128 GB)',\n",
              "  'REDMI 11 Prime (Playful Green, 128 GB)',\n",
              "  'POCO C51 (Power Black, 64 GB)',\n",
              "  'Infinix Smart 7 HD (Green Apple, 64 GB)',\n",
              "  'REDMI 11 Prime (Flashy Black, 128 GB)',\n",
              "  'POCO C50 (Country Green, 32 GB)',\n",
              "  'Infinix SMART 7 (Emerald Green, 64 GB)',\n",
              "  'Infinix SMART 7 (Azure Blue, 64 GB)',\n",
              "  'Infinix SMART 7 (Night Black, 64 GB)',\n",
              "  'REDMI A1+ (Light Blue, 32 GB)',\n",
              "  'REDMI 10 (Shadow Black, 64 GB)',\n",
              "  'POCO C55 (Forest Green, 64 GB)',\n",
              "  'MOTOROLA G32 (Mineral Gray, 128 GB)',\n",
              "  'Infinix HOT 30i (Glacier Blue, 128 GB)',\n",
              "  'Infinix HOT 30i (Marigold, 128 GB)',\n",
              "  'Infinix HOT 30i (Mirror Black, 128 GB)',\n",
              "  'Infinix HOT 30i (Diamond White, 128 GB)',\n",
              "  'POCO M4 5G (Cool Blue, 64 GB)',\n",
              "  'Infinix HOT 30i (Glacier Blue, 64 GB)',\n",
              "  'Infinix HOT 30i (Diamond White, 64 GB)',\n",
              "  'Infinix HOT 30i (Marigold, 64 GB)',\n",
              "  'Infinix HOT 30i (Mirror Black, 64 GB)'],\n",
              " 'rule_om5i': ['POCO C51 (Royal Blue, 64 GB)',\n",
              "  'POCO C50 (Royal Blue, 32 GB)',\n",
              "  'REDMI 11 Prime (Peppy Purple, 128 GB)',\n",
              "  'REDMI 11 Prime (Playful Green, 128 GB)',\n",
              "  'POCO C51 (Power Black, 64 GB)',\n",
              "  'Infinix Smart 7 HD (Green Apple, 64 GB)',\n",
              "  'REDMI 11 Prime (Flashy Black, 128 GB)',\n",
              "  'POCO C50 (Country Green, 32 GB)',\n",
              "  'Infinix SMART 7 (Emerald Green, 64 GB)',\n",
              "  'Infinix SMART 7 (Azure Blue, 64 GB)',\n",
              "  'Infinix SMART 7 (Night Black, 64 GB)',\n",
              "  'REDMI A1+ (Light Blue, 32 GB)',\n",
              "  'REDMI 10 (Shadow Black, 64 GB)',\n",
              "  'POCO C55 (Forest Green, 64 GB)',\n",
              "  'MOTOROLA G32 (Mineral Gray, 128 GB)',\n",
              "  'Infinix HOT 30i (Glacier Blue, 128 GB)',\n",
              "  'Infinix HOT 30i (Marigold, 128 GB)',\n",
              "  'Infinix HOT 30i (Mirror Black, 128 GB)',\n",
              "  'Infinix HOT 30i (Diamond White, 128 GB)',\n",
              "  'POCO M4 5G (Cool Blue, 64 GB)',\n",
              "  'Infinix HOT 30i (Glacier Blue, 64 GB)',\n",
              "  'Infinix HOT 30i (Diamond White, 64 GB)',\n",
              "  'Infinix HOT 30i (Marigold, 64 GB)',\n",
              "  'Infinix HOT 30i (Mirror Black, 64 GB)'],\n",
              " 'rule_ai84': ['₹5,499', '₹9,499', '₹12,999', '₹6,999', '₹7,499'],\n",
              " 'rule_jbi9': ['₹6,999',\n",
              "  '₹5,499',\n",
              "  '₹10,999',\n",
              "  '₹10,999',\n",
              "  '₹6,999',\n",
              "  '₹6,199',\n",
              "  '₹10,999',\n",
              "  '₹5,499',\n",
              "  '₹7,499',\n",
              "  '₹7,499',\n",
              "  '₹7,499',\n",
              "  '₹6,749',\n",
              "  '₹9,499',\n",
              "  '₹7,749',\n",
              "  '₹11,999',\n",
              "  '₹9,499',\n",
              "  '₹9,499',\n",
              "  '₹9,499',\n",
              "  '₹9,499',\n",
              "  '₹12,999',\n",
              "  '₹8,399',\n",
              "  '₹8,399',\n",
              "  '₹8,399',\n",
              "  '₹8,399'],\n",
              " 'rule_d85z': ['₹6,999',\n",
              "  '₹5,499',\n",
              "  '₹10,999',\n",
              "  '₹10,999',\n",
              "  '₹6,999',\n",
              "  '₹6,199',\n",
              "  '₹10,999',\n",
              "  '₹5,499',\n",
              "  '₹7,499',\n",
              "  '₹7,499',\n",
              "  '₹7,499',\n",
              "  '₹6,749',\n",
              "  '₹9,499',\n",
              "  '₹7,749',\n",
              "  '₹11,999',\n",
              "  '₹9,499',\n",
              "  '₹9,499',\n",
              "  '₹9,499',\n",
              "  '₹9,499',\n",
              "  '₹12,999',\n",
              "  '₹8,399',\n",
              "  '₹8,399',\n",
              "  '₹8,399',\n",
              "  '₹8,399']}"
            ]
          },
          "metadata": {},
          "execution_count": 10
        }
      ]
    },
    {
      "cell_type": "code",
      "source": [
        "scraper.set_rule_aliases({'rule_om5i':'Title','rule_d85z':'Price'})\n",
        "scraper.keep_rules(['rule_om5i','rule_d85z'])\n",
        "scraper.save('flipcart-search')"
      ],
      "metadata": {
        "id": "_IxRfFCkHA-6"
      },
      "execution_count": 11,
      "outputs": []
    },
    {
      "cell_type": "code",
      "source": [
        "results=scraper.get_result_similar('https://www.flipkart.com/search?q=mi%20phones&otracker=search&otracker1=search&marketplace=FLIPKART&as-show=on&as=off',group_by_alias=True)\n",
        "\n"
      ],
      "metadata": {
        "id": "Nbv7JhI1HXg5"
      },
      "execution_count": 12,
      "outputs": []
    },
    {
      "cell_type": "code",
      "source": [
        "results['Title']"
      ],
      "metadata": {
        "colab": {
          "base_uri": "https://localhost:8080/"
        },
        "id": "efX7JSWyHiNE",
        "outputId": "0f3d66c5-1593-41f0-a628-25c41c77dd1f"
      },
      "execution_count": 13,
      "outputs": [
        {
          "output_type": "execute_result",
          "data": {
            "text/plain": [
              "['REDMI 10 Power (Sporty Orange, 128 GB)',\n",
              " 'REDMI 10 Power (Power Black, 128 GB)',\n",
              " 'Redmi 10 Prime (Bifrost Blue, 64 GB)',\n",
              " 'Redmi 9A Sport (Carbon Black, 32 GB)',\n",
              " 'Redmi 9A Sport (Coral Green, 32 GB)',\n",
              " 'Redmi 9A Sport (Metallic Blue, 32 GB)',\n",
              " 'Redmi 6 (Gold, 32 GB)',\n",
              " 'Redmi 10 Prime (Phantom Black, 64 GB)',\n",
              " 'Redmi 9A Sport (Metallic Blue, 32 GB)',\n",
              " 'Xiaomi 11Lite NE (Diamond Dazzle, 128 GB)',\n",
              " 'Xiaomi 11Lite NE (Vinyl Black, 128 GB)',\n",
              " 'Mi 10T (Cosmic Black, 128 GB)',\n",
              " 'Mi 10T (Cosmic Black, 128 GB)',\n",
              " 'Redmi 9A Sport (Carbon Black, 32 GB)',\n",
              " 'Xiaomi 11i Hypercharge 5G (Stealth Black, 128 GB)',\n",
              " 'Mi A2 (Gold, 64 GB)',\n",
              " 'Redmi 10 Prime (Bifrost Blue, 128 GB)',\n",
              " 'REDMI 10A (CHARCOAL BLACK, 128 GB)',\n",
              " 'Mi 11 Lite (Vinyl Black, 128 GB)',\n",
              " 'Mi 11 Lite (Jazz Blue, 128 GB)',\n",
              " 'Mi 10T (Lunar Silver, 128 GB)',\n",
              " 'Redmi 9 (Sporty Orange, 64 GB)',\n",
              " 'Redmi 9 (Sky Blue, 64 GB)',\n",
              " 'Redmi 9 (Carbon Black, 64 GB)']"
            ]
          },
          "metadata": {},
          "execution_count": 13
        }
      ]
    },
    {
      "cell_type": "code",
      "source": [
        "results['Price']"
      ],
      "metadata": {
        "colab": {
          "base_uri": "https://localhost:8080/"
        },
        "id": "bcTxxf3aHlSN",
        "outputId": "952adb05-49cc-422f-cc34-d65338b237ce"
      },
      "execution_count": 14,
      "outputs": [
        {
          "output_type": "execute_result",
          "data": {
            "text/plain": [
              "['₹12,675',\n",
              " '₹12,796',\n",
              " '₹12,450',\n",
              " '₹7,124',\n",
              " '₹7,030',\n",
              " '₹7,150',\n",
              " '₹8,999',\n",
              " '₹11,970',\n",
              " '₹8,799',\n",
              " '₹25,990',\n",
              " '₹21,695',\n",
              " '₹37,999',\n",
              " '₹23,990',\n",
              " '₹8,500',\n",
              " '₹23,999',\n",
              " '₹17,499',\n",
              " '₹16,450',\n",
              " '₹11,999',\n",
              " '₹18,999',\n",
              " '₹18,999',\n",
              " '₹37,999',\n",
              " '₹10,989',\n",
              " '₹10,990',\n",
              " '₹10,990']"
            ]
          },
          "metadata": {},
          "execution_count": 14
        }
      ]
    },
    {
      "cell_type": "code",
      "source": [
        "titles = results['Title']\n",
        "prices = results['Price']\n",
        "\n",
        "for title, price in zip(titles, prices):\n",
        "    print('{} --> {}'.format(title, price))\n"
      ],
      "metadata": {
        "colab": {
          "base_uri": "https://localhost:8080/"
        },
        "id": "IzXPrzt_Hnah",
        "outputId": "17e6579c-5ad9-4d44-b205-1e865b089381"
      },
      "execution_count": 18,
      "outputs": [
        {
          "output_type": "stream",
          "name": "stdout",
          "text": [
            "REDMI 10 Power (Sporty Orange, 128 GB) --> ₹12,675\n",
            "REDMI 10 Power (Power Black, 128 GB) --> ₹12,796\n",
            "Redmi 10 Prime (Bifrost Blue, 64 GB) --> ₹12,450\n",
            "Redmi 9A Sport (Carbon Black, 32 GB) --> ₹7,124\n",
            "Redmi 9A Sport (Coral Green, 32 GB) --> ₹7,030\n",
            "Redmi 9A Sport (Metallic Blue, 32 GB) --> ₹7,150\n",
            "Redmi 6 (Gold, 32 GB) --> ₹8,999\n",
            "Redmi 10 Prime (Phantom Black, 64 GB) --> ₹11,970\n",
            "Redmi 9A Sport (Metallic Blue, 32 GB) --> ₹8,799\n",
            "Xiaomi 11Lite NE (Diamond Dazzle, 128 GB) --> ₹25,990\n",
            "Xiaomi 11Lite NE (Vinyl Black, 128 GB) --> ₹21,695\n",
            "Mi 10T (Cosmic Black, 128 GB) --> ₹37,999\n",
            "Mi 10T (Cosmic Black, 128 GB) --> ₹23,990\n",
            "Redmi 9A Sport (Carbon Black, 32 GB) --> ₹8,500\n",
            "Xiaomi 11i Hypercharge 5G (Stealth Black, 128 GB) --> ₹23,999\n",
            "Mi A2 (Gold, 64 GB) --> ₹17,499\n",
            "Redmi 10 Prime (Bifrost Blue, 128 GB) --> ₹16,450\n",
            "REDMI 10A (CHARCOAL BLACK, 128 GB) --> ₹11,999\n",
            "Mi 11 Lite (Vinyl Black, 128 GB) --> ₹18,999\n",
            "Mi 11 Lite (Jazz Blue, 128 GB) --> ₹18,999\n",
            "Mi 10T (Lunar Silver, 128 GB) --> ₹37,999\n",
            "Redmi 9 (Sporty Orange, 64 GB) --> ₹10,989\n",
            "Redmi 9 (Sky Blue, 64 GB) --> ₹10,990\n",
            "Redmi 9 (Carbon Black, 64 GB) --> ₹10,990\n"
          ]
        }
      ]
    },
    {
      "cell_type": "code",
      "source": [
        "import csv\n",
        "\n",
        "titles = results['Title']\n",
        "prices = results['Price']\n",
        "\n",
        "# Specify the file name for the CSV file\n",
        "filename = 'flipcart_data.csv'\n",
        "\n",
        "# Write the data to the CSV file\n",
        "with open(filename, 'w', newline='') as csvfile:\n",
        "    writer = csv.writer(csvfile)\n",
        "\n",
        "    # Write the header row\n",
        "    writer.writerow(['Title', 'Price'])\n",
        "\n",
        "    # Write the data rows\n",
        "    for title, price in zip(titles, prices):\n",
        "        writer.writerow([title, price])"
      ],
      "metadata": {
        "id": "swY6_wNnHt_w"
      },
      "execution_count": 19,
      "outputs": []
    },
    {
      "cell_type": "code",
      "source": [
        "import pandas as pd"
      ],
      "metadata": {
        "id": "YqKfjhKqKnrL"
      },
      "execution_count": 21,
      "outputs": []
    },
    {
      "cell_type": "code",
      "source": [
        "df=pd.read_csv('flipcart_data.csv')"
      ],
      "metadata": {
        "id": "vbMijXZgKqUP"
      },
      "execution_count": 22,
      "outputs": []
    },
    {
      "cell_type": "code",
      "source": [
        "df.head()"
      ],
      "metadata": {
        "colab": {
          "base_uri": "https://localhost:8080/",
          "height": 206
        },
        "id": "Oc0ooGC6Kvek",
        "outputId": "abecd44c-8fed-48f5-c029-af66d2fa269e"
      },
      "execution_count": 23,
      "outputs": [
        {
          "output_type": "execute_result",
          "data": {
            "text/plain": [
              "                                    Title    Price\n",
              "0  REDMI 10 Power (Sporty Orange, 128 GB)  ₹12,675\n",
              "1    REDMI 10 Power (Power Black, 128 GB)  ₹12,796\n",
              "2    Redmi 10 Prime (Bifrost Blue, 64 GB)  ₹12,450\n",
              "3    Redmi 9A Sport (Carbon Black, 32 GB)   ₹7,124\n",
              "4     Redmi 9A Sport (Coral Green, 32 GB)   ₹7,030"
            ],
            "text/html": [
              "\n",
              "  <div id=\"df-881be4c8-2210-43db-b909-d5e3bbd44e48\">\n",
              "    <div class=\"colab-df-container\">\n",
              "      <div>\n",
              "<style scoped>\n",
              "    .dataframe tbody tr th:only-of-type {\n",
              "        vertical-align: middle;\n",
              "    }\n",
              "\n",
              "    .dataframe tbody tr th {\n",
              "        vertical-align: top;\n",
              "    }\n",
              "\n",
              "    .dataframe thead th {\n",
              "        text-align: right;\n",
              "    }\n",
              "</style>\n",
              "<table border=\"1\" class=\"dataframe\">\n",
              "  <thead>\n",
              "    <tr style=\"text-align: right;\">\n",
              "      <th></th>\n",
              "      <th>Title</th>\n",
              "      <th>Price</th>\n",
              "    </tr>\n",
              "  </thead>\n",
              "  <tbody>\n",
              "    <tr>\n",
              "      <th>0</th>\n",
              "      <td>REDMI 10 Power (Sporty Orange, 128 GB)</td>\n",
              "      <td>₹12,675</td>\n",
              "    </tr>\n",
              "    <tr>\n",
              "      <th>1</th>\n",
              "      <td>REDMI 10 Power (Power Black, 128 GB)</td>\n",
              "      <td>₹12,796</td>\n",
              "    </tr>\n",
              "    <tr>\n",
              "      <th>2</th>\n",
              "      <td>Redmi 10 Prime (Bifrost Blue, 64 GB)</td>\n",
              "      <td>₹12,450</td>\n",
              "    </tr>\n",
              "    <tr>\n",
              "      <th>3</th>\n",
              "      <td>Redmi 9A Sport (Carbon Black, 32 GB)</td>\n",
              "      <td>₹7,124</td>\n",
              "    </tr>\n",
              "    <tr>\n",
              "      <th>4</th>\n",
              "      <td>Redmi 9A Sport (Coral Green, 32 GB)</td>\n",
              "      <td>₹7,030</td>\n",
              "    </tr>\n",
              "  </tbody>\n",
              "</table>\n",
              "</div>\n",
              "      <button class=\"colab-df-convert\" onclick=\"convertToInteractive('df-881be4c8-2210-43db-b909-d5e3bbd44e48')\"\n",
              "              title=\"Convert this dataframe to an interactive table.\"\n",
              "              style=\"display:none;\">\n",
              "        \n",
              "  <svg xmlns=\"http://www.w3.org/2000/svg\" height=\"24px\"viewBox=\"0 0 24 24\"\n",
              "       width=\"24px\">\n",
              "    <path d=\"M0 0h24v24H0V0z\" fill=\"none\"/>\n",
              "    <path d=\"M18.56 5.44l.94 2.06.94-2.06 2.06-.94-2.06-.94-.94-2.06-.94 2.06-2.06.94zm-11 1L8.5 8.5l.94-2.06 2.06-.94-2.06-.94L8.5 2.5l-.94 2.06-2.06.94zm10 10l.94 2.06.94-2.06 2.06-.94-2.06-.94-.94-2.06-.94 2.06-2.06.94z\"/><path d=\"M17.41 7.96l-1.37-1.37c-.4-.4-.92-.59-1.43-.59-.52 0-1.04.2-1.43.59L10.3 9.45l-7.72 7.72c-.78.78-.78 2.05 0 2.83L4 21.41c.39.39.9.59 1.41.59.51 0 1.02-.2 1.41-.59l7.78-7.78 2.81-2.81c.8-.78.8-2.07 0-2.86zM5.41 20L4 18.59l7.72-7.72 1.47 1.35L5.41 20z\"/>\n",
              "  </svg>\n",
              "      </button>\n",
              "      \n",
              "  <style>\n",
              "    .colab-df-container {\n",
              "      display:flex;\n",
              "      flex-wrap:wrap;\n",
              "      gap: 12px;\n",
              "    }\n",
              "\n",
              "    .colab-df-convert {\n",
              "      background-color: #E8F0FE;\n",
              "      border: none;\n",
              "      border-radius: 50%;\n",
              "      cursor: pointer;\n",
              "      display: none;\n",
              "      fill: #1967D2;\n",
              "      height: 32px;\n",
              "      padding: 0 0 0 0;\n",
              "      width: 32px;\n",
              "    }\n",
              "\n",
              "    .colab-df-convert:hover {\n",
              "      background-color: #E2EBFA;\n",
              "      box-shadow: 0px 1px 2px rgba(60, 64, 67, 0.3), 0px 1px 3px 1px rgba(60, 64, 67, 0.15);\n",
              "      fill: #174EA6;\n",
              "    }\n",
              "\n",
              "    [theme=dark] .colab-df-convert {\n",
              "      background-color: #3B4455;\n",
              "      fill: #D2E3FC;\n",
              "    }\n",
              "\n",
              "    [theme=dark] .colab-df-convert:hover {\n",
              "      background-color: #434B5C;\n",
              "      box-shadow: 0px 1px 3px 1px rgba(0, 0, 0, 0.15);\n",
              "      filter: drop-shadow(0px 1px 2px rgba(0, 0, 0, 0.3));\n",
              "      fill: #FFFFFF;\n",
              "    }\n",
              "  </style>\n",
              "\n",
              "      <script>\n",
              "        const buttonEl =\n",
              "          document.querySelector('#df-881be4c8-2210-43db-b909-d5e3bbd44e48 button.colab-df-convert');\n",
              "        buttonEl.style.display =\n",
              "          google.colab.kernel.accessAllowed ? 'block' : 'none';\n",
              "\n",
              "        async function convertToInteractive(key) {\n",
              "          const element = document.querySelector('#df-881be4c8-2210-43db-b909-d5e3bbd44e48');\n",
              "          const dataTable =\n",
              "            await google.colab.kernel.invokeFunction('convertToInteractive',\n",
              "                                                     [key], {});\n",
              "          if (!dataTable) return;\n",
              "\n",
              "          const docLinkHtml = 'Like what you see? Visit the ' +\n",
              "            '<a target=\"_blank\" href=https://colab.research.google.com/notebooks/data_table.ipynb>data table notebook</a>'\n",
              "            + ' to learn more about interactive tables.';\n",
              "          element.innerHTML = '';\n",
              "          dataTable['output_type'] = 'display_data';\n",
              "          await google.colab.output.renderOutput(dataTable, element);\n",
              "          const docLink = document.createElement('div');\n",
              "          docLink.innerHTML = docLinkHtml;\n",
              "          element.appendChild(docLink);\n",
              "        }\n",
              "      </script>\n",
              "    </div>\n",
              "  </div>\n",
              "  "
            ]
          },
          "metadata": {},
          "execution_count": 23
        }
      ]
    },
    {
      "cell_type": "code",
      "source": [],
      "metadata": {
        "id": "MfP6kldXKwyc"
      },
      "execution_count": null,
      "outputs": []
    }
  ]
}